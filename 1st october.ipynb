{
 "cells": [
  {
   "cell_type": "markdown",
   "id": "1120e4da-5b68-4e0a-b0e5-0011e0391000",
   "metadata": {},
   "source": [
    "# OOPs (object oriented programming)"
   ]
  },
  {
   "cell_type": "code",
   "execution_count": 1,
   "id": "9dad9acc-31ae-4a59-b013-0108848bc4e2",
   "metadata": {},
   "outputs": [
    {
     "data": {
      "text/plain": [
       "3"
      ]
     },
     "execution_count": 1,
     "metadata": {},
     "output_type": "execute_result"
    }
   ],
   "source": [
    "1+2"
   ]
  },
  {
   "cell_type": "code",
   "execution_count": 17,
   "id": "81fef080-5c60-483c-ba65-3c8463151565",
   "metadata": {},
   "outputs": [],
   "source": [
    "class bankaccount:\n",
    "    \n",
    "    def openaccount(self,name,email_id): # its not taking three argument okay \n",
    "        print(\"open an account by taking name and mail id\")\n",
    "        return name+email_id\n",
    "    \n",
    "    def deposits(self,amount):\n",
    "        print(\"I am trying to deposits an amount in my account\")\n",
    "    \n",
    "    def withdraw(self,amount):\n",
    "        print(\"withdraw the amount\")\n",
    "    \n",
    "    def update_details(self,name_update,email_update):\n",
    "        print(\"this function will update my name and mail if for account\")"
   ]
  },
  {
   "cell_type": "code",
   "execution_count": 18,
   "id": "f3dfa1a5-4a4b-4bf2-956c-3341b61e9910",
   "metadata": {},
   "outputs": [],
   "source": [
    "# we can also write seperately \n",
    "def openaccount(self,name,email_id): # its not taking three argument okay \n",
    "        print(\"open an account by taking name and mail id\")\n",
    "        return name+email_id"
   ]
  },
  {
   "cell_type": "code",
   "execution_count": 19,
   "id": "dd9f79e0-e2c2-44cf-ba60-d26d73fa9d1e",
   "metadata": {},
   "outputs": [],
   "source": [
    "# we can also write seperately \n",
    "def withdraw(self,amount):\n",
    "        print(\"withdraw the amount\")"
   ]
  },
  {
   "cell_type": "code",
   "execution_count": 20,
   "id": "151cf7d0-1a09-45dc-aaf2-cdbb61ab159e",
   "metadata": {},
   "outputs": [],
   "source": [
    "# we can also write seperately \n",
    "def update_details(self,name_update,email_update):\n",
    "    print(\"this function will update my name and mail if for account\")"
   ]
  },
  {
   "cell_type": "code",
   "execution_count": null,
   "id": "347f49ff-dd2b-43a1-baf8-74652026c460",
   "metadata": {},
   "outputs": [],
   "source": []
  },
  {
   "cell_type": "code",
   "execution_count": 36,
   "id": "8a1024b6-8fe6-4ce7-b666-eb7560b41da1",
   "metadata": {},
   "outputs": [],
   "source": [
    "class bankaccount:\n",
    "    \n",
    "    def openaccount(self,name,email_id): # its not taking three argument okay \n",
    "        print(\"open an account by taking name and mail id\")\n",
    "        return name+email_id\n",
    "    \n",
    "    def deposits(self,amount):\n",
    "        print(\"I am trying to deposits an amount in my account\")\n",
    "        return amount\n",
    "    \n",
    "    def withdraw(self,amount):\n",
    "        print(\"withdraw the amount\")\n",
    "        return amount\n",
    "    \n",
    "    def update_details(self,name_update,email_update):\n",
    "        print(\"this function will update my name and mail if for account\")"
   ]
  },
  {
   "cell_type": "code",
   "execution_count": 37,
   "id": "01a67551-2efd-4810-ba98-8a51992d68dc",
   "metadata": {},
   "outputs": [],
   "source": [
    "neeraj= bankaccount()"
   ]
  },
  {
   "cell_type": "code",
   "execution_count": 38,
   "id": "eee5b758-ce22-4fbf-885d-3ea30d981322",
   "metadata": {},
   "outputs": [
    {
     "name": "stdout",
     "output_type": "stream",
     "text": [
      "open an account by taking name and mail id\n"
     ]
    },
    {
     "data": {
      "text/plain": [
       "'vijaybskj@gmail.com'"
      ]
     },
     "execution_count": 38,
     "metadata": {},
     "output_type": "execute_result"
    }
   ],
   "source": [
    "neeraj.openaccount(\"vijay\", \"bskj@gmail.com\")"
   ]
  },
  {
   "cell_type": "code",
   "execution_count": 39,
   "id": "28fa02f8-b961-4536-8254-e26862d82ed2",
   "metadata": {},
   "outputs": [
    {
     "name": "stdout",
     "output_type": "stream",
     "text": [
      "I am trying to deposits an amount in my account\n"
     ]
    },
    {
     "data": {
      "text/plain": [
       "22353"
      ]
     },
     "execution_count": 39,
     "metadata": {},
     "output_type": "execute_result"
    }
   ],
   "source": [
    "neeraj.deposits(22353)"
   ]
  },
  {
   "cell_type": "code",
   "execution_count": 40,
   "id": "c3edbac8-ac17-48b4-86b2-76c33c71d1fa",
   "metadata": {},
   "outputs": [
    {
     "name": "stdout",
     "output_type": "stream",
     "text": [
      "withdraw the amount\n"
     ]
    },
    {
     "data": {
      "text/plain": [
       "155"
      ]
     },
     "execution_count": 40,
     "metadata": {},
     "output_type": "execute_result"
    }
   ],
   "source": [
    "neeraj.withdraw(155)"
   ]
  },
  {
   "cell_type": "code",
   "execution_count": 44,
   "id": "151108c5-fac2-4abc-927b-78274ad4cc9e",
   "metadata": {},
   "outputs": [
    {
     "data": {
      "text/plain": [
       "5"
      ]
     },
     "execution_count": 44,
     "metadata": {},
     "output_type": "execute_result"
    }
   ],
   "source": [
    "l=[2,3,4,5,6,7]\n",
    "l[3]"
   ]
  },
  {
   "cell_type": "code",
   "execution_count": 45,
   "id": "a40c18c2-2a1a-4c8a-b8ac-bf615bf30101",
   "metadata": {},
   "outputs": [],
   "source": [
    "class list_ops:\n",
    "    \n",
    "    def extractfromindex(self,l,index):\n",
    "        return l[index]\n",
    "    \n",
    "    def extractrangedata(self,start,end):\n",
    "        return l[start:end]\n",
    "    \n",
    "    def extracteven(self,l):\n",
    "        l1=[]\n",
    "        for i in l:\n",
    "            if i%2==0:\n",
    "                l1.append(i)\n",
    "        return l1       \n",
    "    "
   ]
  },
  {
   "cell_type": "code",
   "execution_count": 51,
   "id": "91c12a73-255d-4406-8480-efdba82857f0",
   "metadata": {},
   "outputs": [
    {
     "data": {
      "text/plain": [
       "7"
      ]
     },
     "execution_count": 51,
     "metadata": {},
     "output_type": "execute_result"
    }
   ],
   "source": [
    "first_obj=list_ops()\n",
    "first_obj.extractfromindex([2,34,5,6,7,8],4)"
   ]
  },
  {
   "cell_type": "code",
   "execution_count": 52,
   "id": "36a3950c-030e-4312-98b0-1a2dc4091613",
   "metadata": {},
   "outputs": [
    {
     "ename": "TypeError",
     "evalue": "list_ops.extractrangedata() takes 3 positional arguments but 4 were given",
     "output_type": "error",
     "traceback": [
      "\u001b[0;31m---------------------------------------------------------------------------\u001b[0m",
      "\u001b[0;31mTypeError\u001b[0m                                 Traceback (most recent call last)",
      "Cell \u001b[0;32mIn[52], line 1\u001b[0m\n\u001b[0;32m----> 1\u001b[0m \u001b[43mfirst_obj\u001b[49m\u001b[38;5;241;43m.\u001b[39;49m\u001b[43mextractrangedata\u001b[49m\u001b[43m(\u001b[49m\u001b[43m[\u001b[49m\u001b[38;5;241;43m2\u001b[39;49m\u001b[43m,\u001b[49m\u001b[38;5;241;43m34\u001b[39;49m\u001b[43m,\u001b[49m\u001b[38;5;241;43m5\u001b[39;49m\u001b[43m,\u001b[49m\u001b[38;5;241;43m6\u001b[39;49m\u001b[43m,\u001b[49m\u001b[38;5;241;43m7\u001b[39;49m\u001b[43m,\u001b[49m\u001b[38;5;241;43m8\u001b[39;49m\u001b[43m]\u001b[49m\u001b[43m,\u001b[49m\u001b[43m \u001b[49m\u001b[38;5;241;43m1\u001b[39;49m\u001b[43m \u001b[49m\u001b[43m,\u001b[49m\u001b[43m \u001b[49m\u001b[38;5;241;43m4\u001b[39;49m\u001b[43m)\u001b[49m\n",
      "\u001b[0;31mTypeError\u001b[0m: list_ops.extractrangedata() takes 3 positional arguments but 4 were given"
     ]
    }
   ],
   "source": [
    "first_obj.extractrangedata([2,34,5,6,7,8], 1 , 4)"
   ]
  },
  {
   "cell_type": "code",
   "execution_count": 53,
   "id": "5f6c39bc-7081-4e66-94da-4ce12bbafbc5",
   "metadata": {},
   "outputs": [
    {
     "data": {
      "text/plain": [
       "[2, 4, 6, 78]"
      ]
     },
     "execution_count": 53,
     "metadata": {},
     "output_type": "execute_result"
    }
   ],
   "source": [
    "first_obj.extracteven([1,2,3,4,5,6,7,78])"
   ]
  },
  {
   "cell_type": "code",
   "execution_count": 60,
   "id": "d560fe70-033e-4b75-9c41-5920511339e6",
   "metadata": {},
   "outputs": [],
   "source": [
    "class list_ops:\n",
    "    \n",
    "    def extractfromindex(neeraj,l,index): # we can chnage self to my name or any name\n",
    "        return l[index]\n",
    "    \n",
    "    def extractrangedata(neeraj,start,end):\n",
    "        return l[start:end]\n",
    "    \n",
    "    def extracteven(neeraj,l):\n",
    "        l1=[]\n",
    "        for i in l:\n",
    "            if i%2==0:\n",
    "                l1.append(i)\n",
    "        return l1       \n",
    "    "
   ]
  },
  {
   "cell_type": "code",
   "execution_count": 61,
   "id": "25c7676e-40dc-4b99-8124-dddc085cdf70",
   "metadata": {},
   "outputs": [
    {
     "data": {
      "text/plain": [
       "7"
      ]
     },
     "execution_count": 61,
     "metadata": {},
     "output_type": "execute_result"
    }
   ],
   "source": [
    "first_obj=list_ops()\n",
    "first_obj.extractfromindex([2,34,5,6,7,8],4)"
   ]
  },
  {
   "cell_type": "code",
   "execution_count": 69,
   "id": "f18ece22-a1ec-4e08-958c-d5cdead72602",
   "metadata": {},
   "outputs": [
    {
     "ename": "TypeError",
     "evalue": "list_ops.extractrangedata() takes 3 positional arguments but 4 were given",
     "output_type": "error",
     "traceback": [
      "\u001b[0;31m---------------------------------------------------------------------------\u001b[0m",
      "\u001b[0;31mTypeError\u001b[0m                                 Traceback (most recent call last)",
      "Cell \u001b[0;32mIn[69], line 1\u001b[0m\n\u001b[0;32m----> 1\u001b[0m \u001b[43mfirst_obj\u001b[49m\u001b[38;5;241;43m.\u001b[39;49m\u001b[43mextractrangedata\u001b[49m\u001b[43m(\u001b[49m\u001b[43m[\u001b[49m\u001b[38;5;241;43m2\u001b[39;49m\u001b[43m,\u001b[49m\u001b[38;5;241;43m34\u001b[39;49m\u001b[43m,\u001b[49m\u001b[38;5;241;43m5\u001b[39;49m\u001b[43m,\u001b[49m\u001b[38;5;241;43m8\u001b[39;49m\u001b[43m]\u001b[49m\u001b[43m,\u001b[49m\u001b[38;5;241;43m1\u001b[39;49m\u001b[43m,\u001b[49m\u001b[38;5;241;43m3\u001b[39;49m\u001b[43m)\u001b[49m\n",
      "\u001b[0;31mTypeError\u001b[0m: list_ops.extractrangedata() takes 3 positional arguments but 4 were given"
     ]
    }
   ],
   "source": [
    "first_obj.extractrangedata([2,34,5,8],1,3)"
   ]
  },
  {
   "cell_type": "code",
   "execution_count": 63,
   "id": "f60c4de0-e4b4-4f54-8e6c-d09f4a9a673e",
   "metadata": {},
   "outputs": [
    {
     "data": {
      "text/plain": [
       "[2, 4, 6, 78]"
      ]
     },
     "execution_count": 63,
     "metadata": {},
     "output_type": "execute_result"
    }
   ],
   "source": [
    "first_obj.extracteven([1,2,3,4,5,6,7,78])"
   ]
  },
  {
   "cell_type": "code",
   "execution_count": 86,
   "id": "dbf7d83c-8839-444c-aabb-24fa5f7830d3",
   "metadata": {},
   "outputs": [],
   "source": [
    "class list_ops:\n",
    "    \n",
    "    a=10\n",
    "    l1=[1,2,3,4,5]\n",
    "    \n",
    "    def extractfromindex(neeraj,l,index): # we can chnage self to my name or any name\n",
    "        return l[index]\n",
    "    \n",
    "    def extractrangedata(neeraj,start,end):\n",
    "        return l[start:end]\n",
    "    \n",
    "    def extracteven(neeraj,l):\n",
    "        l1=[]\n",
    "        for i in l:\n",
    "            if i%2==0:\n",
    "                l1.append(i)\n",
    "        return l1       \n",
    "    "
   ]
  },
  {
   "cell_type": "code",
   "execution_count": 87,
   "id": "9f13307d-babc-423c-9df3-579003305c32",
   "metadata": {},
   "outputs": [
    {
     "data": {
      "text/plain": [
       "7"
      ]
     },
     "execution_count": 87,
     "metadata": {},
     "output_type": "execute_result"
    }
   ],
   "source": [
    "first_obj.extractfromindex([2,34,5,6,7,8],4)"
   ]
  },
  {
   "cell_type": "code",
   "execution_count": 88,
   "id": "76e5ef26-1fac-4462-a89a-ef117b63e64c",
   "metadata": {},
   "outputs": [
    {
     "ename": "AttributeError",
     "evalue": "'list_ops' object has no attribute 'a'",
     "output_type": "error",
     "traceback": [
      "\u001b[0;31m---------------------------------------------------------------------------\u001b[0m",
      "\u001b[0;31mAttributeError\u001b[0m                            Traceback (most recent call last)",
      "Cell \u001b[0;32mIn[88], line 1\u001b[0m\n\u001b[0;32m----> 1\u001b[0m \u001b[43mfirst_obj\u001b[49m\u001b[38;5;241;43m.\u001b[39;49m\u001b[43ma\u001b[49m\n",
      "\u001b[0;31mAttributeError\u001b[0m: 'list_ops' object has no attribute 'a'"
     ]
    }
   ],
   "source": [
    "first_obj.a"
   ]
  },
  {
   "cell_type": "code",
   "execution_count": 89,
   "id": "31bb5728-43e5-48cd-8bec-aaeb51a11b8a",
   "metadata": {},
   "outputs": [
    {
     "data": {
      "text/plain": [
       "[2, 4, 6, 78]"
      ]
     },
     "execution_count": 89,
     "metadata": {},
     "output_type": "execute_result"
    }
   ],
   "source": [
    "first_obj.extracteven([1,2,3,4,5,6,7,78])"
   ]
  },
  {
   "cell_type": "code",
   "execution_count": 90,
   "id": "2fd33495-3a97-4b1f-b475-0aea555a3223",
   "metadata": {},
   "outputs": [
    {
     "ename": "AttributeError",
     "evalue": "'list_ops' object has no attribute 'l1'",
     "output_type": "error",
     "traceback": [
      "\u001b[0;31m---------------------------------------------------------------------------\u001b[0m",
      "\u001b[0;31mAttributeError\u001b[0m                            Traceback (most recent call last)",
      "Cell \u001b[0;32mIn[90], line 1\u001b[0m\n\u001b[0;32m----> 1\u001b[0m \u001b[43mfirst_obj\u001b[49m\u001b[38;5;241;43m.\u001b[39;49m\u001b[43ml1\u001b[49m\n",
      "\u001b[0;31mAttributeError\u001b[0m: 'list_ops' object has no attribute 'l1'"
     ]
    }
   ],
   "source": [
    "first_obj.l1"
   ]
  },
  {
   "cell_type": "code",
   "execution_count": 91,
   "id": "a29258f1-6332-4581-977d-2524ceed6454",
   "metadata": {},
   "outputs": [],
   "source": [
    "second_obj=list_ops()"
   ]
  },
  {
   "cell_type": "code",
   "execution_count": 92,
   "id": "170cbefc-3e8f-476f-95df-f4ef5521d7bc",
   "metadata": {},
   "outputs": [
    {
     "data": {
      "text/plain": [
       "10"
      ]
     },
     "execution_count": 92,
     "metadata": {},
     "output_type": "execute_result"
    }
   ],
   "source": [
    "second_obj.a"
   ]
  },
  {
   "cell_type": "code",
   "execution_count": 93,
   "id": "47452962-c195-4c7f-ada0-8c3bd20e4d27",
   "metadata": {},
   "outputs": [
    {
     "data": {
      "text/plain": [
       "[1, 2, 3, 4, 5]"
      ]
     },
     "execution_count": 93,
     "metadata": {},
     "output_type": "execute_result"
    }
   ],
   "source": [
    "second_obj.l1"
   ]
  },
  {
   "cell_type": "code",
   "execution_count": 94,
   "id": "b59338cd-c2e0-4fed-ad62-2b628be793bc",
   "metadata": {},
   "outputs": [
    {
     "data": {
      "text/plain": [
       "[2, 4, 78, 98]"
      ]
     },
     "execution_count": 94,
     "metadata": {},
     "output_type": "execute_result"
    }
   ],
   "source": [
    "second_obj.extracteven([1,2,3,4,5,78,98])"
   ]
  },
  {
   "cell_type": "code",
   "execution_count": 95,
   "id": "e650c124-9ada-4d66-8fd4-e4ca765f9370",
   "metadata": {},
   "outputs": [
    {
     "data": {
      "text/plain": [
       "5"
      ]
     },
     "execution_count": 95,
     "metadata": {},
     "output_type": "execute_result"
    }
   ],
   "source": [
    "second_obj.extractfromindex([1,2,3,4,5,6,7,7,8],4)"
   ]
  },
  {
   "cell_type": "code",
   "execution_count": 97,
   "id": "fbd553ac-74e0-48f4-8615-9e191f2dd332",
   "metadata": {},
   "outputs": [],
   "source": [
    "class list_ops:\n",
    "    \n",
    "    #a=10\n",
    "    #l=[1,2,3,4,5]\n",
    "    \n",
    "    \n",
    "    # dundar function \n",
    "    def __init__(neeraj,l):\n",
    "        neeraj.l=l\n",
    "    \n",
    "    def extractfromindex(neeraj,l,index): # we can chnage self to my name or any name\n",
    "        return l[index]\n",
    "    \n",
    "    def extractrangedata(neeraj,start,end):\n",
    "        return l[start:end]\n",
    "    \n",
    "    def extracteven(neeraj,l):\n",
    "        l1=[]\n",
    "        for i in l:\n",
    "            if i%2==0:\n",
    "                l1.append(i)\n",
    "        return l1       \n",
    "    "
   ]
  },
  {
   "cell_type": "code",
   "execution_count": 99,
   "id": "43f8bb4f-5571-43d8-8594-eec1c5c41386",
   "metadata": {},
   "outputs": [],
   "source": [
    "fourth_obj=list_ops([3,4,5,6,7])"
   ]
  },
  {
   "cell_type": "code",
   "execution_count": 100,
   "id": "b36a971f-ea7a-4437-ada5-69a30458735e",
   "metadata": {},
   "outputs": [
    {
     "data": {
      "text/plain": [
       "[3, 4, 5, 6, 7]"
      ]
     },
     "execution_count": 100,
     "metadata": {},
     "output_type": "execute_result"
    }
   ],
   "source": [
    "fourth_obj.l"
   ]
  },
  {
   "cell_type": "code",
   "execution_count": null,
   "id": "5a4b2e7d-fc6e-4468-b1d9-eca65b67eaec",
   "metadata": {},
   "outputs": [],
   "source": [
    "fourth_obj."
   ]
  },
  {
   "cell_type": "code",
   "execution_count": 101,
   "id": "db4fdc1c-566d-4844-84ea-493a9348aec1",
   "metadata": {},
   "outputs": [],
   "source": [
    "class list_ops:\n",
    "    \n",
    "    #a=10\n",
    "    #l=[1,2,3,4,5]\n",
    "    \n",
    "    \n",
    "    # dundar function \n",
    "    def __init__(neeraj,l):\n",
    "        neeraj.l1=l\n",
    "        neeraj.l2=40\n",
    "        neeraj.l3=\"vijay\"\n",
    "        neeraj.l4=(4,5,6,7,8)\n",
    "        neeraj.l5={\"key\":\"value\"}\n",
    "    \n",
    "    def extractfromindex(neeraj,l,index): # we can chnage self to my name or any name\n",
    "        return l[index]\n",
    "    \n",
    "    def extractrangedata(neeraj,start,end):\n",
    "        return l[start:end]\n",
    "    \n",
    "    def extracteven(neeraj,l):\n",
    "        l1=[]\n",
    "        for i in l:\n",
    "            if i%2==0:\n",
    "                l1.append(i)\n",
    "        return l1       \n",
    "    "
   ]
  },
  {
   "cell_type": "code",
   "execution_count": 106,
   "id": "c17a42c4-19c4-4c23-b34c-b3329f92a110",
   "metadata": {},
   "outputs": [
    {
     "data": {
      "text/plain": [
       "40"
      ]
     },
     "execution_count": 106,
     "metadata": {},
     "output_type": "execute_result"
    }
   ],
   "source": [
    "fifth_obj=list_ops([1,2,3])\n",
    "fifth_obj.l2"
   ]
  },
  {
   "cell_type": "code",
   "execution_count": 123,
   "id": "6cc8d28a-7160-4ed7-82de-985cbfa967a2",
   "metadata": {},
   "outputs": [],
   "source": [
    "class book:\n",
    "    \n",
    "    def __init__(self,title,pageno):\n",
    "        self.name_of_book=name\n",
    "        self.title_of_book=title\n",
    "        self.page_no=pageno\n",
    "        \n",
    "    def extract_details(self):\n",
    "        print(self.name_of_book,self.title_of_book)\n",
    "    \n",
    "    def print_page_no(self):\n",
    "        print(self.page_no)"
   ]
  },
  {
   "cell_type": "code",
   "execution_count": null,
   "id": "6b5e5c91-1943-4d61-8988-f05c97bfe261",
   "metadata": {},
   "outputs": [],
   "source": []
  },
  {
   "cell_type": "code",
   "execution_count": 124,
   "id": "8fa510fd-c883-435b-a9e0-a338bc7488f4",
   "metadata": {},
   "outputs": [
    {
     "ename": "TypeError",
     "evalue": "book.__init__() takes 3 positional arguments but 4 were given",
     "output_type": "error",
     "traceback": [
      "\u001b[0;31m---------------------------------------------------------------------------\u001b[0m",
      "\u001b[0;31mTypeError\u001b[0m                                 Traceback (most recent call last)",
      "Cell \u001b[0;32mIn[124], line 1\u001b[0m\n\u001b[0;32m----> 1\u001b[0m jivan\u001b[38;5;241m=\u001b[39m\u001b[43mbook\u001b[49m\u001b[43m(\u001b[49m\u001b[38;5;124;43m\"\u001b[39;49m\u001b[38;5;124;43mdsa\u001b[39;49m\u001b[38;5;124;43m\"\u001b[39;49m\u001b[43m,\u001b[49m\u001b[38;5;124;43m\"\u001b[39;49m\u001b[38;5;124;43mpractical dsa\u001b[39;49m\u001b[38;5;124;43m\"\u001b[39;49m\u001b[43m,\u001b[49m\u001b[38;5;241;43m234\u001b[39;49m\u001b[43m)\u001b[49m\n\u001b[1;32m      2\u001b[0m vijay\u001b[38;5;241m=\u001b[39mbook(\u001b[38;5;124m\"\u001b[39m\u001b[38;5;124mdata science\u001b[39m\u001b[38;5;124m\"\u001b[39m,\u001b[38;5;124m\"\u001b[39m\u001b[38;5;124mimpletation of data science\u001b[39m\u001b[38;5;124m\"\u001b[39m,\u001b[38;5;241m546\u001b[39m)\n\u001b[1;32m      3\u001b[0m dost\u001b[38;5;241m=\u001b[39mbook(\u001b[38;5;124m\"\u001b[39m\u001b[38;5;124mbig data\u001b[39m\u001b[38;5;124m\"\u001b[39m,\u001b[38;5;124m\"\u001b[39m\u001b[38;5;124minvention with big data\u001b[39m\u001b[38;5;124m\"\u001b[39m,\u001b[38;5;241m987\u001b[39m)\n",
      "\u001b[0;31mTypeError\u001b[0m: book.__init__() takes 3 positional arguments but 4 were given"
     ]
    }
   ],
   "source": [
    "jivan=book(\"dsa\",\"practical dsa\",234)\n",
    "vijay=book(\"data science\",\"impletation of data science\",546)\n",
    "dost=book(\"big data\",\"invention with big data\",987)"
   ]
  },
  {
   "cell_type": "code",
   "execution_count": 125,
   "id": "e2e2b26a-a317-4bba-af64-5eaf088d9721",
   "metadata": {},
   "outputs": [
    {
     "ename": "NameError",
     "evalue": "name 'jivan' is not defined",
     "output_type": "error",
     "traceback": [
      "\u001b[0;31m---------------------------------------------------------------------------\u001b[0m",
      "\u001b[0;31mNameError\u001b[0m                                 Traceback (most recent call last)",
      "Cell \u001b[0;32mIn[125], line 1\u001b[0m\n\u001b[0;32m----> 1\u001b[0m \u001b[43mjivan\u001b[49m\u001b[38;5;241m.\u001b[39mextract_details()\n",
      "\u001b[0;31mNameError\u001b[0m: name 'jivan' is not defined"
     ]
    }
   ],
   "source": [
    "jivan.extract_details()"
   ]
  },
  {
   "cell_type": "code",
   "execution_count": null,
   "id": "20baabdb-8b4b-4bf2-bceb-3525405a69f6",
   "metadata": {},
   "outputs": [],
   "source": []
  },
  {
   "cell_type": "code",
   "execution_count": 128,
   "id": "a5dab09f-d21b-4402-ba78-351253bac971",
   "metadata": {},
   "outputs": [],
   "source": [
    "class gmail_ops:\n",
    "    def __init__(self,userid,password):\n",
    "        self.userid=userid\n",
    "        self.password=password\n",
    "        self.url=\"https://mango-scientist-ilaym.pwskills.app/lab/tree/work/1st%20october.ipynb\"\n",
    "        \n",
    "    def login(self):\n",
    "        print(\"take userid\"+ self.userid + \"take password\" +  \"hit url\" + self.url)\n",
    "        print(\"login\")\n",
    "        \n",
    "    def read_mail(self):\n",
    "        print(\"read mail for \"+ self.userid +\" \"+ self.password)\n",
    "        \n",
    "        \n",
    "    def reply_mail(self):\n",
    "        print(\"reply mail for \" + self.userid +\" \"+ self.password)\n",
    "        "
   ]
  },
  {
   "cell_type": "code",
   "execution_count": 129,
   "id": "cefedbfa-7aeb-4ebd-888e-9a4c5dd924b9",
   "metadata": {},
   "outputs": [
    {
     "name": "stdout",
     "output_type": "stream",
     "text": [
      "take useriduser1take passwordhit urlhttps://mango-scientist-ilaym.pwskills.app/lab/tree/work/1st%20october.ipynb\n",
      "login\n"
     ]
    }
   ],
   "source": [
    "user1=gmail_ops(\"user1\",\"user1paas\")\n",
    "user1.login()"
   ]
  },
  {
   "cell_type": "code",
   "execution_count": null,
   "id": "a3e5d41a-6a22-4b0e-8d1d-55ac2b43405c",
   "metadata": {},
   "outputs": [],
   "source": [
    "user2="
   ]
  },
  {
   "cell_type": "code",
   "execution_count": null,
   "id": "a2b684e5-089f-420b-bc98-cac170ce8434",
   "metadata": {},
   "outputs": [],
   "source": []
  },
  {
   "cell_type": "code",
   "execution_count": null,
   "id": "53b0a5fb-f582-4b46-8cc7-a572a14d89fe",
   "metadata": {},
   "outputs": [],
   "source": []
  },
  {
   "cell_type": "markdown",
   "id": "b16b99f5-d20b-429c-94b2-2c1c32b726e7",
   "metadata": {},
   "source": [
    "# write a prgram of calcultor"
   ]
  },
  {
   "cell_type": "code",
   "execution_count": 131,
   "id": "cc86e450-0fbd-4191-ab51-6a82f1024f12",
   "metadata": {},
   "outputs": [],
   "source": [
    "from functools import reduce\n",
    "class calculator:\n",
    "    \n",
    "    def add(self,*args): # args basically use when more than 2 data put for our calculation\n",
    "        return sum(args)\n",
    "    \n",
    "    \n",
    "    def subtraction(self,*args):\n",
    "        return reduce(lambda a,b:a-b,args)\n",
    "    \n",
    "    def multiplication(self,*args):\n",
    "        return reduce(lambda a,b:a*b,args)\n",
    "    \n",
    "    def division(self,*args):\n",
    "        return reduce(lambda a,b:a/b,args)\n",
    "    "
   ]
  },
  {
   "cell_type": "code",
   "execution_count": 132,
   "id": "a7157d40-544c-4d5c-9251-4486a04bf5f7",
   "metadata": {},
   "outputs": [],
   "source": [
    "neeraj=calculator()"
   ]
  },
  {
   "cell_type": "code",
   "execution_count": 133,
   "id": "3e8e08e5-cda1-4eae-b3ac-87995b256781",
   "metadata": {},
   "outputs": [
    {
     "data": {
      "text/plain": [
       "17"
      ]
     },
     "execution_count": 133,
     "metadata": {},
     "output_type": "execute_result"
    }
   ],
   "source": [
    "neeraj.add(1,2,3,4,7)"
   ]
  },
  {
   "cell_type": "code",
   "execution_count": 134,
   "id": "52af3462-b4cf-4ed3-bd25-cba77b2558e2",
   "metadata": {},
   "outputs": [
    {
     "data": {
      "text/plain": [
       "0.008333333333333333"
      ]
     },
     "execution_count": 134,
     "metadata": {},
     "output_type": "execute_result"
    }
   ],
   "source": [
    "neeraj.division(1,2,3,4,5)"
   ]
  },
  {
   "cell_type": "code",
   "execution_count": 135,
   "id": "305b165f-4776-49c0-8d3e-a0fdf4eedbed",
   "metadata": {},
   "outputs": [
    {
     "data": {
      "text/plain": [
       "120"
      ]
     },
     "execution_count": 135,
     "metadata": {},
     "output_type": "execute_result"
    }
   ],
   "source": [
    "neeraj.multiplication(1,2,3,4,5)"
   ]
  },
  {
   "cell_type": "code",
   "execution_count": 136,
   "id": "e2f0aa6e-415d-471c-a02a-e957f6163e6c",
   "metadata": {},
   "outputs": [
    {
     "data": {
      "text/plain": [
       "-8"
      ]
     },
     "execution_count": 136,
     "metadata": {},
     "output_type": "execute_result"
    }
   ],
   "source": [
    "neeraj.subtraction(1,2,3,4)"
   ]
  },
  {
   "cell_type": "code",
   "execution_count": 141,
   "id": "e619e7a3-f1ae-48de-8a67-807a583f8297",
   "metadata": {},
   "outputs": [],
   "source": [
    "from functools import reduce\n",
    "class calculator:\n",
    "    \n",
    "    def __init__(self,username):\n",
    "        self.username=username\n",
    "    \n",
    "    def add(self,*args): # args basically use when more than 2 data put for our calculation\n",
    "        return self.username(args)\n",
    "    \n",
    "    \n",
    "    def subtraction(self,*args):\n",
    "        return self.username, reduce(lambda a,b:a-b,args)\n",
    "    \n",
    "    def multiplication(self,*args):\n",
    "        return self.username, reduce(lambda a,b:a*b,args)\n",
    "    \n",
    "    def division(self,*args):\n",
    "        return self.username ,reduce(lambda a,b:a/b,args)\n",
    "    "
   ]
  },
  {
   "cell_type": "code",
   "execution_count": 142,
   "id": "ae0b5fd2-4b4a-40a8-91f4-715b9b5d186c",
   "metadata": {},
   "outputs": [],
   "source": [
    "neeraj=calculator(\"vijay\")"
   ]
  },
  {
   "cell_type": "code",
   "execution_count": 143,
   "id": "12e06555-0425-4fa5-b95c-31e69ac3c70e",
   "metadata": {},
   "outputs": [
    {
     "ename": "TypeError",
     "evalue": "'str' object is not callable",
     "output_type": "error",
     "traceback": [
      "\u001b[0;31m---------------------------------------------------------------------------\u001b[0m",
      "\u001b[0;31mTypeError\u001b[0m                                 Traceback (most recent call last)",
      "Cell \u001b[0;32mIn[143], line 1\u001b[0m\n\u001b[0;32m----> 1\u001b[0m \u001b[43mneeraj\u001b[49m\u001b[38;5;241;43m.\u001b[39;49m\u001b[43madd\u001b[49m\u001b[43m(\u001b[49m\u001b[38;5;241;43m1\u001b[39;49m\u001b[43m,\u001b[49m\u001b[38;5;241;43m2\u001b[39;49m\u001b[43m,\u001b[49m\u001b[38;5;241;43m3\u001b[39;49m\u001b[43m,\u001b[49m\u001b[38;5;241;43m4\u001b[39;49m\u001b[43m)\u001b[49m\n",
      "Cell \u001b[0;32mIn[141], line 8\u001b[0m, in \u001b[0;36mcalculator.add\u001b[0;34m(self, *args)\u001b[0m\n\u001b[1;32m      7\u001b[0m \u001b[38;5;28;01mdef\u001b[39;00m \u001b[38;5;21madd\u001b[39m(\u001b[38;5;28mself\u001b[39m,\u001b[38;5;241m*\u001b[39margs): \u001b[38;5;66;03m# args basically use when more than 2 data put for our calculation\u001b[39;00m\n\u001b[0;32m----> 8\u001b[0m     \u001b[38;5;28;01mreturn\u001b[39;00m \u001b[38;5;28;43mself\u001b[39;49m\u001b[38;5;241;43m.\u001b[39;49m\u001b[43musername\u001b[49m\u001b[43m(\u001b[49m\u001b[43margs\u001b[49m\u001b[43m)\u001b[49m\n",
      "\u001b[0;31mTypeError\u001b[0m: 'str' object is not callable"
     ]
    }
   ],
   "source": [
    "neeraj.add(1,2,3,4)"
   ]
  },
  {
   "cell_type": "code",
   "execution_count": null,
   "id": "8d62db33-f4de-4a03-ab75-0bfa5aad12c1",
   "metadata": {},
   "outputs": [],
   "source": []
  }
 ],
 "metadata": {
  "kernelspec": {
   "display_name": "Python 3 (ipykernel)",
   "language": "python",
   "name": "python3"
  },
  "language_info": {
   "codemirror_mode": {
    "name": "ipython",
    "version": 3
   },
   "file_extension": ".py",
   "mimetype": "text/x-python",
   "name": "python",
   "nbconvert_exporter": "python",
   "pygments_lexer": "ipython3",
   "version": "3.10.8"
  }
 },
 "nbformat": 4,
 "nbformat_minor": 5
}
