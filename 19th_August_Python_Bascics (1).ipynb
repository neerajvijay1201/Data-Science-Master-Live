{
 "cells": [
  {
   "cell_type": "markdown",
   "id": "cda87dba",
   "metadata": {},
   "source": [
    "# 1.  PYTHON BASIC VARIABLES"
   ]
  },
  {
   "cell_type": "markdown",
   "id": "1c1122ca",
   "metadata": {},
   "source": [
    "# Neeraj Vijay 19_August_python_Basics"
   ]
  },
  {
   "cell_type": "code",
   "execution_count": 1,
   "id": "e5895866",
   "metadata": {},
   "outputs": [
    {
     "data": {
      "text/plain": [
       "'1. Declare two variables, `x` and `y`, and assign them integer values.\\nSwap the values of these variables without using any temporary\\nvariable.'"
      ]
     },
     "execution_count": 1,
     "metadata": {},
     "output_type": "execute_result"
    }
   ],
   "source": [
    "'''1. Declare two variables, `x` and `y`, and assign them integer values.\n",
    "Swap the values of these variables without using any temporary\n",
    "variable.'''"
   ]
  },
  {
   "cell_type": "code",
   "execution_count": 2,
   "id": "bdfbb294",
   "metadata": {},
   "outputs": [
    {
     "name": "stdout",
     "output_type": "stream",
     "text": [
      "enter the value of x=5\n",
      "enter the value of y=2\n"
     ]
    }
   ],
   "source": [
    "x=int(input(\"enter the value of x=\"))\n",
    "y=int(input(\"enter the value of y=\"))"
   ]
  },
  {
   "cell_type": "code",
   "execution_count": 3,
   "id": "d767285d",
   "metadata": {},
   "outputs": [],
   "source": [
    "x=x+y\n",
    "y=x-y\n",
    "x=x-y"
   ]
  },
  {
   "cell_type": "code",
   "execution_count": 4,
   "id": "171bf4f8",
   "metadata": {},
   "outputs": [
    {
     "name": "stdout",
     "output_type": "stream",
     "text": [
      "2\n"
     ]
    }
   ],
   "source": [
    "print(x)"
   ]
  },
  {
   "cell_type": "code",
   "execution_count": 5,
   "id": "5e61215e",
   "metadata": {},
   "outputs": [
    {
     "name": "stdout",
     "output_type": "stream",
     "text": [
      "5\n"
     ]
    }
   ],
   "source": [
    "print(y)"
   ]
  },
  {
   "cell_type": "code",
   "execution_count": 6,
   "id": "2ad74313",
   "metadata": {},
   "outputs": [
    {
     "data": {
      "text/plain": [
       "'2. Create a program that calculates the area of a rectangle. Take the\\nlength and width as inputs from the user and store them in variables.\\nCalculate and display the area'"
      ]
     },
     "execution_count": 6,
     "metadata": {},
     "output_type": "execute_result"
    }
   ],
   "source": [
    "'''2. Create a program that calculates the area of a rectangle. Take the\n",
    "length and width as inputs from the user and store them in variables.\n",
    "Calculate and display the area'''"
   ]
  },
  {
   "cell_type": "code",
   "execution_count": 7,
   "id": "2c436880",
   "metadata": {},
   "outputs": [
    {
     "name": "stdout",
     "output_type": "stream",
     "text": [
      "enter the value of Lenght=2\n",
      "enter the value of width=6\n"
     ]
    }
   ],
   "source": [
    "lenght=float(input(\"enter the value of Lenght=\"))\n",
    "width=float(input(\"enter the value of width=\"))"
   ]
  },
  {
   "cell_type": "code",
   "execution_count": 8,
   "id": "195780ed",
   "metadata": {},
   "outputs": [],
   "source": [
    "area_of_rectangle=lenght*width"
   ]
  },
  {
   "cell_type": "code",
   "execution_count": 9,
   "id": "966fbcfd",
   "metadata": {},
   "outputs": [
    {
     "name": "stdout",
     "output_type": "stream",
     "text": [
      "12.0\n"
     ]
    }
   ],
   "source": [
    "print(area_of_rectangle)"
   ]
  },
  {
   "cell_type": "code",
   "execution_count": 10,
   "id": "cd11e4fe",
   "metadata": {},
   "outputs": [
    {
     "data": {
      "text/plain": [
       "'3. Write a Python program that converts temperature from Celsius to\\nFahrenheit. Take the temperature in Celsius as input, store it in a\\nvariable, convert it to Fahrenheit, and display the result.'"
      ]
     },
     "execution_count": 10,
     "metadata": {},
     "output_type": "execute_result"
    }
   ],
   "source": [
    "'''3. Write a Python program that converts temperature from Celsius to\n",
    "Fahrenheit. Take the temperature in Celsius as input, store it in a\n",
    "variable, convert it to Fahrenheit, and display the result.'''"
   ]
  },
  {
   "cell_type": "code",
   "execution_count": 11,
   "id": "e25fca6c",
   "metadata": {},
   "outputs": [
    {
     "name": "stdout",
     "output_type": "stream",
     "text": [
      "enter the value of temp. in deg_C is = 5445\n"
     ]
    }
   ],
   "source": [
    "deg_C=float(input(\"enter the value of temp. in deg_C is = \"))"
   ]
  },
  {
   "cell_type": "code",
   "execution_count": 12,
   "id": "d3c8cb55",
   "metadata": {},
   "outputs": [],
   "source": [
    "deg_F=(9/5)*deg_C+32"
   ]
  },
  {
   "cell_type": "code",
   "execution_count": 13,
   "id": "9504d942",
   "metadata": {},
   "outputs": [
    {
     "name": "stdout",
     "output_type": "stream",
     "text": [
      "9833.0\n"
     ]
    }
   ],
   "source": [
    "print(deg_F)"
   ]
  },
  {
   "cell_type": "markdown",
   "id": "9ef2b464",
   "metadata": {},
   "source": [
    "# 2. STRING BASED QUESTIONS"
   ]
  },
  {
   "cell_type": "code",
   "execution_count": 14,
   "id": "91ad1151",
   "metadata": {},
   "outputs": [
    {
     "data": {
      "text/plain": [
       "'1. Write a Python program that takes a string as input and prints the\\nlength of the string'"
      ]
     },
     "execution_count": 14,
     "metadata": {},
     "output_type": "execute_result"
    }
   ],
   "source": [
    "'''1. Write a Python program that takes a string as input and prints the\n",
    "length of the string'''"
   ]
  },
  {
   "cell_type": "code",
   "execution_count": 15,
   "id": "6e86e579",
   "metadata": {},
   "outputs": [
    {
     "name": "stdout",
     "output_type": "stream",
     "text": [
      "enter the name of string is=Neeraj vijay\n"
     ]
    }
   ],
   "source": [
    "str= input(\"enter the name of string is=\")"
   ]
  },
  {
   "cell_type": "code",
   "execution_count": 16,
   "id": "508c7767",
   "metadata": {},
   "outputs": [
    {
     "name": "stdout",
     "output_type": "stream",
     "text": [
      "12\n"
     ]
    }
   ],
   "source": [
    "print(len(str)) # It will also count the space between two words"
   ]
  },
  {
   "cell_type": "code",
   "execution_count": 17,
   "id": "26152b89",
   "metadata": {},
   "outputs": [
    {
     "data": {
      "text/plain": [
       "'2. Create a program that takes a sentence from the user and counts the\\nnumber of vowels (a, e, i, o, u) in the string.'"
      ]
     },
     "execution_count": 17,
     "metadata": {},
     "output_type": "execute_result"
    }
   ],
   "source": [
    "'''2. Create a program that takes a sentence from the user and counts the\n",
    "number of vowels (a, e, i, o, u) in the string.'''"
   ]
  },
  {
   "cell_type": "code",
   "execution_count": 1,
   "id": "ac66f92f",
   "metadata": {},
   "outputs": [
    {
     "name": "stdout",
     "output_type": "stream",
     "text": [
      "enter the sentence is   neeraj vijay\n"
     ]
    }
   ],
   "source": [
    "sentence=input(\"enter the sentence is   \")"
   ]
  },
  {
   "cell_type": "code",
   "execution_count": 2,
   "id": "63d649e4",
   "metadata": {},
   "outputs": [],
   "source": [
    "vowels_counts=0\n",
    "vowels=\"aeiouAEIOU\"\n",
    "for char in sentence:\n",
    "    if char in vowels:\n",
    "        vowels_counts=vowels_counts+1    "
   ]
  },
  {
   "cell_type": "code",
   "execution_count": 3,
   "id": "9e36d4b2",
   "metadata": {},
   "outputs": [
    {
     "name": "stdout",
     "output_type": "stream",
     "text": [
      "5\n"
     ]
    }
   ],
   "source": [
    "print(vowels_counts )"
   ]
  },
  {
   "cell_type": "code",
   "execution_count": 17,
   "id": "dff4e026",
   "metadata": {},
   "outputs": [
    {
     "data": {
      "text/plain": [
       "'3. Given a string, reverse the order of characters using string slicing and print\\nthe reversed string.'"
      ]
     },
     "execution_count": 17,
     "metadata": {},
     "output_type": "execute_result"
    }
   ],
   "source": [
    "'''3. Given a string, reverse the order of characters using string slicing and print\n",
    "the reversed string.'''"
   ]
  },
  {
   "cell_type": "code",
   "execution_count": 5,
   "id": "31364075",
   "metadata": {},
   "outputs": [
    {
     "name": "stdout",
     "output_type": "stream",
     "text": [
      "enter the string : vijay\n"
     ]
    }
   ],
   "source": [
    "string=input(\"enter the string : \")"
   ]
  },
  {
   "cell_type": "code",
   "execution_count": 7,
   "id": "f1add937",
   "metadata": {},
   "outputs": [
    {
     "data": {
      "text/plain": [
       "'yajiv'"
      ]
     },
     "execution_count": 7,
     "metadata": {},
     "output_type": "execute_result"
    }
   ],
   "source": [
    "string[::-1]"
   ]
  },
  {
   "cell_type": "code",
   "execution_count": 8,
   "id": "b9fbfb05",
   "metadata": {},
   "outputs": [
    {
     "data": {
      "text/plain": [
       "'4. Write a program that takes a string as input and checks if it is a palindrome\\n(reads the same forwards and backwards).'"
      ]
     },
     "execution_count": 8,
     "metadata": {},
     "output_type": "execute_result"
    }
   ],
   "source": [
    "'''4. Write a program that takes a string as input and checks if it is a palindrome\n",
    "(reads the same forwards and backwards).'''"
   ]
  },
  {
   "cell_type": "code",
   "execution_count": 16,
   "id": "1809e5e3",
   "metadata": {},
   "outputs": [
    {
     "name": "stdout",
     "output_type": "stream",
     "text": [
      "enter a string :radar\n"
     ]
    }
   ],
   "source": []
  },
  {
   "cell_type": "code",
   "execution_count": 18,
   "id": "461106ad",
   "metadata": {},
   "outputs": [
    {
     "name": "stdout",
     "output_type": "stream",
     "text": [
      "enter a string :radar\n",
      "The given string is pallindrome\n"
     ]
    }
   ],
   "source": [
    "string=input(\"enter a string :\")\n",
    "if string[::-1]==string:\n",
    "    print(\"The given string is pallindrome\")\n",
    "else:\n",
    "    print(\"The given string is not pallindrome\")"
   ]
  },
  {
   "cell_type": "code",
   "execution_count": 19,
   "id": "100e77f6",
   "metadata": {},
   "outputs": [
    {
     "name": "stdout",
     "output_type": "stream",
     "text": [
      "enter a string :neeraj\n",
      "The given string is not pallindrome\n"
     ]
    }
   ],
   "source": [
    "string=input(\"enter a string :\")\n",
    "if string[::-1]==string:\n",
    "    print(\"The given string is pallindrome\")\n",
    "else:\n",
    "    print(\"The given string is not pallindrome\")"
   ]
  },
  {
   "cell_type": "code",
   "execution_count": 20,
   "id": "74016054",
   "metadata": {},
   "outputs": [
    {
     "data": {
      "text/plain": [
       "'5. Create a program that takes a string as input and removes all the spaces from\\nit. Print the modified string without spaces.'"
      ]
     },
     "execution_count": 20,
     "metadata": {},
     "output_type": "execute_result"
    }
   ],
   "source": [
    "'''5. Create a program that takes a string as input and removes all the spaces from\n",
    "it. Print the modified string without spaces.'''"
   ]
  },
  {
   "cell_type": "code",
   "execution_count": 23,
   "id": "13c18378",
   "metadata": {},
   "outputs": [
    {
     "name": "stdout",
     "output_type": "stream",
     "text": [
      "enter a string : This book is really good for the students\n",
      "Thisbookisreallygoodforthestudents\n"
     ]
    }
   ],
   "source": [
    "sentence=input(\"enter a string : \")\n",
    "sentence_without_spaces = sentence.replace(\" \", \"\")\n",
    "print(sentence_without_spaces)"
   ]
  },
  {
   "cell_type": "markdown",
   "id": "8cb83219",
   "metadata": {},
   "source": [
    "# END"
   ]
  },
  {
   "cell_type": "code",
   "execution_count": null,
   "id": "292dcfb7",
   "metadata": {},
   "outputs": [],
   "source": []
  }
 ],
 "metadata": {
  "kernelspec": {
   "display_name": "Python 3 (ipykernel)",
   "language": "python",
   "name": "python3"
  },
  "language_info": {
   "codemirror_mode": {
    "name": "ipython",
    "version": 3
   },
   "file_extension": ".py",
   "mimetype": "text/x-python",
   "name": "python",
   "nbconvert_exporter": "python",
   "pygments_lexer": "ipython3",
   "version": "3.11.1"
  }
 },
 "nbformat": 4,
 "nbformat_minor": 5
}
