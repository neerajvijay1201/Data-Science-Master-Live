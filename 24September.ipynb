{
 "cells": [
  {
   "cell_type": "markdown",
   "id": "535e34ee-d246-4183-9498-739d4a0440b7",
   "metadata": {},
   "source": [
    "# 24 th september"
   ]
  },
  {
   "cell_type": "markdown",
   "id": "c20060e7-065a-4285-b950-482cc6f2a8c0",
   "metadata": {},
   "source": [
    "# recusive function"
   ]
  },
  {
   "cell_type": "code",
   "execution_count": 1,
   "id": "1e5dda6b-f924-46c5-a639-d3c810c88911",
   "metadata": {},
   "outputs": [
    {
     "data": {
      "text/plain": [
       "6"
      ]
     },
     "execution_count": 1,
     "metadata": {},
     "output_type": "execute_result"
    }
   ],
   "source": [
    "# finding the lenght of the function\n",
    "s=\"neeraj\"\n",
    "len(s) # lenght of the string "
   ]
  },
  {
   "cell_type": "markdown",
   "id": "8bcaacaa-0b73-4776-8b6c-0b4247e671b7",
   "metadata": {},
   "source": [
    "# Same problem by recursive function"
   ]
  },
  {
   "cell_type": "code",
   "execution_count": 2,
   "id": "a946b338-d95a-4586-b193-13231c6ff382",
   "metadata": {},
   "outputs": [],
   "source": [
    "# finding the lenght of the function\n",
    "def find_len(s):\n",
    "    if s== \"\": # base case\n",
    "        return 0\n",
    "    else:\n",
    "        return 1+find_len(s[1:]) # recursive value"
   ]
  },
  {
   "cell_type": "code",
   "execution_count": 4,
   "id": "030a5bc5-c3ab-495d-ac47-4d0dfa76310e",
   "metadata": {},
   "outputs": [
    {
     "data": {
      "text/plain": [
       "6"
      ]
     },
     "execution_count": 4,
     "metadata": {},
     "output_type": "execute_result"
    }
   ],
   "source": [
    "find_len(\"neeraj\")"
   ]
  },
  {
   "cell_type": "code",
   "execution_count": 5,
   "id": "83ccc265-9dd8-4fdc-83c9-4596d890f8c0",
   "metadata": {},
   "outputs": [
    {
     "data": {
      "text/plain": [
       "5"
      ]
     },
     "execution_count": 5,
     "metadata": {},
     "output_type": "execute_result"
    }
   ],
   "source": [
    "find_len(\"vijay\")"
   ]
  },
  {
   "cell_type": "markdown",
   "id": "fae81f5d-b51d-4e2b-9f50-d5b812d53cbe",
   "metadata": {},
   "source": [
    "# reverse of the string "
   ]
  },
  {
   "cell_type": "code",
   "execution_count": 6,
   "id": "2e0e9a0c-fbf9-441c-b8eb-1245139c70b6",
   "metadata": {},
   "outputs": [
    {
     "data": {
      "text/plain": [
       "'neeraj'"
      ]
     },
     "execution_count": 6,
     "metadata": {},
     "output_type": "execute_result"
    }
   ],
   "source": [
    "s"
   ]
  },
  {
   "cell_type": "code",
   "execution_count": 7,
   "id": "13def8c0-ed2e-4bda-9fc9-d9aa3e9033a8",
   "metadata": {},
   "outputs": [
    {
     "data": {
      "text/plain": [
       "'jareen'"
      ]
     },
     "execution_count": 7,
     "metadata": {},
     "output_type": "execute_result"
    }
   ],
   "source": [
    "s[::-1]"
   ]
  },
  {
   "cell_type": "markdown",
   "id": "bddf9740-ceed-4123-b2bd-20ac000aea08",
   "metadata": {},
   "source": [
    "# By recursive method"
   ]
  },
  {
   "cell_type": "code",
   "execution_count": 9,
   "id": "e8a74a6c-a1e0-4268-b7a6-ae0e7c1074e2",
   "metadata": {},
   "outputs": [],
   "source": [
    "def find_reverse(s):\n",
    "    if s==\"\":\n",
    "        return \"\"\n",
    "    else:\n",
    "        return find_reverse(s[1:])+s[0]\n",
    "    "
   ]
  },
  {
   "cell_type": "code",
   "execution_count": 10,
   "id": "b76a1f04-c0f1-4889-9d4b-9f328dd0c4fc",
   "metadata": {},
   "outputs": [
    {
     "data": {
      "text/plain": [
       "'jareen'"
      ]
     },
     "execution_count": 10,
     "metadata": {},
     "output_type": "execute_result"
    }
   ],
   "source": [
    "find_reverse(\"neeraj\")"
   ]
  },
  {
   "cell_type": "code",
   "execution_count": 11,
   "id": "5300b738-fd99-4747-95ca-008a7b41f582",
   "metadata": {},
   "outputs": [
    {
     "data": {
      "text/plain": [
       "'toor'"
      ]
     },
     "execution_count": 11,
     "metadata": {},
     "output_type": "execute_result"
    }
   ],
   "source": [
    "find_reverse(\"root\")"
   ]
  },
  {
   "cell_type": "code",
   "execution_count": 13,
   "id": "2695ca87-d71e-43f5-86bf-51d0ea4813e3",
   "metadata": {},
   "outputs": [
    {
     "data": {
      "text/plain": [
       "'sn'"
      ]
     },
     "execution_count": 13,
     "metadata": {},
     "output_type": "execute_result"
    }
   ],
   "source": [
    "\"s\"+\"n\""
   ]
  },
  {
   "cell_type": "code",
   "execution_count": 14,
   "id": "14193654-b3c0-4fb2-bc0f-8297e75b0dd1",
   "metadata": {},
   "outputs": [
    {
     "ename": "NameError",
     "evalue": "name 'n' is not defined",
     "output_type": "error",
     "traceback": [
      "\u001b[0;31m---------------------------------------------------------------------------\u001b[0m",
      "\u001b[0;31mNameError\u001b[0m                                 Traceback (most recent call last)",
      "Cell \u001b[0;32mIn[14], line 1\u001b[0m\n\u001b[0;32m----> 1\u001b[0m s\u001b[38;5;241m+\u001b[39m\u001b[43mn\u001b[49m\n",
      "\u001b[0;31mNameError\u001b[0m: name 'n' is not defined"
     ]
    }
   ],
   "source": [
    "s+n"
   ]
  },
  {
   "cell_type": "markdown",
   "id": "15da0edc-7669-4305-ba5e-267d536f4ed4",
   "metadata": {},
   "source": [
    "# find the number of occurence of a letter in a string"
   ]
  },
  {
   "cell_type": "code",
   "execution_count": 24,
   "id": "31235457-b5a2-4024-bb9c-68267f714c80",
   "metadata": {},
   "outputs": [],
   "source": [
    "s=\"neerajvijay\"\n",
    "# how many times a particular letter  in a given string\n",
    "def find_char_count(s,c):\n",
    "    if s==\"\":\n",
    "        return 0\n",
    "    elif s[0]==c:\n",
    "        return 1+find_char_count(s[1:],c)\n",
    "    else:\n",
    "        return find_char_count(s[1:],c)"
   ]
  },
  {
   "cell_type": "code",
   "execution_count": 25,
   "id": "d9f890be-f818-49e5-a967-4b7fe1d8cecd",
   "metadata": {},
   "outputs": [
    {
     "data": {
      "text/plain": [
       "2"
      ]
     },
     "execution_count": 25,
     "metadata": {},
     "output_type": "execute_result"
    }
   ],
   "source": [
    "find_char_count(s,\"e\")"
   ]
  },
  {
   "cell_type": "code",
   "execution_count": 26,
   "id": "43546334-0ae6-46cc-9d90-74a720b8bb9f",
   "metadata": {},
   "outputs": [
    {
     "data": {
      "text/plain": [
       "2"
      ]
     },
     "execution_count": 26,
     "metadata": {},
     "output_type": "execute_result"
    }
   ],
   "source": [
    "find_char_count(s,\"a\")"
   ]
  },
  {
   "cell_type": "code",
   "execution_count": 27,
   "id": "e1f76234-ce3f-42c8-b598-eb228d103e19",
   "metadata": {},
   "outputs": [
    {
     "data": {
      "text/plain": [
       "1"
      ]
     },
     "execution_count": 27,
     "metadata": {},
     "output_type": "execute_result"
    }
   ],
   "source": [
    "find_char_count(s,\"n\")"
   ]
  },
  {
   "cell_type": "markdown",
   "id": "f11e0143-4c86-4783-aeea-591be07e5e72",
   "metadata": {},
   "source": [
    "# check whether a list is in sorted or not in terms of true and false "
   ]
  },
  {
   "cell_type": "code",
   "execution_count": 33,
   "id": "d710f402-a0ad-4806-afb3-2cacb1c8c1e7",
   "metadata": {},
   "outputs": [],
   "source": [
    "l=[4,5,3,4,5,6,6,7]\n",
    "def check_sort_list(l):\n",
    "    if len(l)<=1:   # base case\n",
    "        return True\n",
    "    elif l[0]>l[1]:\n",
    "        return False \n",
    "    else:\n",
    "        return check_sort_list(l[1:]) # recursive call\n",
    "    "
   ]
  },
  {
   "cell_type": "code",
   "execution_count": 34,
   "id": "191e5301-8d23-46b4-a9ed-d0c668a75eca",
   "metadata": {},
   "outputs": [
    {
     "data": {
      "text/plain": [
       "False"
      ]
     },
     "execution_count": 34,
     "metadata": {},
     "output_type": "execute_result"
    }
   ],
   "source": [
    "check_sort_list(l)"
   ]
  },
  {
   "cell_type": "code",
   "execution_count": 35,
   "id": "abd0cbc4-bdde-48cf-8d6c-25c0b4c7d81c",
   "metadata": {},
   "outputs": [
    {
     "data": {
      "text/plain": [
       "True"
      ]
     },
     "execution_count": 35,
     "metadata": {},
     "output_type": "execute_result"
    }
   ],
   "source": [
    "check_sort_list([1,2,3,4])"
   ]
  },
  {
   "cell_type": "code",
   "execution_count": 36,
   "id": "68196d5c-5e1b-41f4-b910-15d41007a360",
   "metadata": {},
   "outputs": [
    {
     "data": {
      "text/plain": [
       "True"
      ]
     },
     "execution_count": 36,
     "metadata": {},
     "output_type": "execute_result"
    }
   ],
   "source": [
    "check_sort_list([1,2,3,4,4])"
   ]
  },
  {
   "cell_type": "markdown",
   "id": "dc70e067-ddb8-4fde-bbe7-4afc07991da3",
   "metadata": {},
   "source": [
    "# find the recursive function to check a number is perfect square in term of true and false "
   ]
  },
  {
   "cell_type": "code",
   "execution_count": 37,
   "id": "de7b199f-f63c-4c88-8af4-ee69044e9470",
   "metadata": {},
   "outputs": [],
   "source": [
    "def check_per_square(n,start=1):\n",
    "    if n==start**2: # base value\n",
    "        return True \n",
    "    elif n < start**2:\n",
    "        return False \n",
    "    else:\n",
    "        return check_per_square(n,start+1) # recursive call\n",
    "        "
   ]
  },
  {
   "cell_type": "code",
   "execution_count": 40,
   "id": "84033ca4-e63c-43c5-84ff-f0d05bf8c4f7",
   "metadata": {},
   "outputs": [
    {
     "data": {
      "text/plain": [
       "True"
      ]
     },
     "execution_count": 40,
     "metadata": {},
     "output_type": "execute_result"
    }
   ],
   "source": [
    "check_per_square(4)"
   ]
  },
  {
   "cell_type": "code",
   "execution_count": 41,
   "id": "d748aa1b-9be0-42d5-a6e4-09f2bd8d9840",
   "metadata": {},
   "outputs": [
    {
     "data": {
      "text/plain": [
       "True"
      ]
     },
     "execution_count": 41,
     "metadata": {},
     "output_type": "execute_result"
    }
   ],
   "source": [
    "check_per_square(64)"
   ]
  },
  {
   "cell_type": "code",
   "execution_count": 42,
   "id": "2500acf3-ec75-49f1-9505-ffd4c7df49a8",
   "metadata": {},
   "outputs": [
    {
     "data": {
      "text/plain": [
       "False"
      ]
     },
     "execution_count": 42,
     "metadata": {},
     "output_type": "execute_result"
    }
   ],
   "source": [
    "check_per_square(89)"
   ]
  },
  {
   "cell_type": "markdown",
   "id": "b88cdaa4-3e11-431c-b13a-13b61812b8bb",
   "metadata": {},
   "source": [
    "# iterators and iterable"
   ]
  },
  {
   "cell_type": "code",
   "execution_count": 43,
   "id": "5cf2cb44-a527-4af2-bbfb-207d1fab48ee",
   "metadata": {},
   "outputs": [],
   "source": [
    "l=[1,2,3,4,5,6]\n",
    "a=10\n",
    "s=\"neeraj\""
   ]
  },
  {
   "cell_type": "code",
   "execution_count": 44,
   "id": "d6b5412a-1493-4eea-8765-fb826571abfa",
   "metadata": {},
   "outputs": [
    {
     "name": "stdout",
     "output_type": "stream",
     "text": [
      "1\n",
      "2\n",
      "3\n",
      "4\n",
      "5\n",
      "6\n"
     ]
    }
   ],
   "source": [
    "for i in l:\n",
    "    print(i)"
   ]
  },
  {
   "cell_type": "code",
   "execution_count": 45,
   "id": "5ed6ca76-034d-402d-8584-5cb4fe2c4c9e",
   "metadata": {},
   "outputs": [
    {
     "name": "stdout",
     "output_type": "stream",
     "text": [
      "n\n",
      "e\n",
      "e\n",
      "r\n",
      "a\n",
      "j\n"
     ]
    }
   ],
   "source": [
    "for i in s:\n",
    "    print(i)"
   ]
  },
  {
   "cell_type": "code",
   "execution_count": 46,
   "id": "b47182d0-94d5-4fd3-8666-1bb310699ae9",
   "metadata": {},
   "outputs": [
    {
     "ename": "TypeError",
     "evalue": "'int' object is not iterable",
     "output_type": "error",
     "traceback": [
      "\u001b[0;31m---------------------------------------------------------------------------\u001b[0m",
      "\u001b[0;31mTypeError\u001b[0m                                 Traceback (most recent call last)",
      "Cell \u001b[0;32mIn[46], line 1\u001b[0m\n\u001b[0;32m----> 1\u001b[0m \u001b[38;5;28;01mfor\u001b[39;00m i \u001b[38;5;129;01min\u001b[39;00m a:\n\u001b[1;32m      2\u001b[0m     \u001b[38;5;28mprint\u001b[39m(i)\n",
      "\u001b[0;31mTypeError\u001b[0m: 'int' object is not iterable"
     ]
    }
   ],
   "source": [
    "for i in a:\n",
    "    print(i) # u will get the error of iterable samjh gaya "
   ]
  },
  {
   "cell_type": "code",
   "execution_count": 47,
   "id": "ed1b642b-2f1c-45d0-bf19-3506183920ad",
   "metadata": {},
   "outputs": [
    {
     "ename": "TypeError",
     "evalue": "'int' object is not iterable",
     "output_type": "error",
     "traceback": [
      "\u001b[0;31m---------------------------------------------------------------------------\u001b[0m",
      "\u001b[0;31mTypeError\u001b[0m                                 Traceback (most recent call last)",
      "Cell \u001b[0;32mIn[47], line 1\u001b[0m\n\u001b[0;32m----> 1\u001b[0m \u001b[38;5;28;43miter\u001b[39;49m\u001b[43m(\u001b[49m\u001b[38;5;241;43m10\u001b[39;49m\u001b[43m)\u001b[49m\n",
      "\u001b[0;31mTypeError\u001b[0m: 'int' object is not iterable"
     ]
    }
   ],
   "source": [
    "iter(10)"
   ]
  },
  {
   "cell_type": "code",
   "execution_count": 48,
   "id": "b86d3816-5722-4e69-87f8-1a308376d00a",
   "metadata": {},
   "outputs": [
    {
     "data": {
      "text/plain": [
       "<str_iterator at 0x7efe3e48eef0>"
      ]
     },
     "execution_count": 48,
     "metadata": {},
     "output_type": "execute_result"
    }
   ],
   "source": [
    "iter(\"neeraj\")"
   ]
  },
  {
   "cell_type": "code",
   "execution_count": 49,
   "id": "9d458ef9-e9e1-4cdd-a15c-f50ae38235f0",
   "metadata": {},
   "outputs": [
    {
     "data": {
      "text/plain": [
       "<list_iterator at 0x7efe3e48f8e0>"
      ]
     },
     "execution_count": 49,
     "metadata": {},
     "output_type": "execute_result"
    }
   ],
   "source": [
    "iter([1,2,3,4,5])"
   ]
  },
  {
   "cell_type": "code",
   "execution_count": 50,
   "id": "2f0ddb69-1db3-4c2a-a301-fe38f4f1841d",
   "metadata": {},
   "outputs": [],
   "source": [
    "s=iter(\"neeraj\")"
   ]
  },
  {
   "cell_type": "code",
   "execution_count": 51,
   "id": "e3bba314-cfc0-4313-9ac2-9e2e4e1881a3",
   "metadata": {},
   "outputs": [
    {
     "data": {
      "text/plain": [
       "<str_iterator at 0x7efe3e48f340>"
      ]
     },
     "execution_count": 51,
     "metadata": {},
     "output_type": "execute_result"
    }
   ],
   "source": [
    "s"
   ]
  },
  {
   "cell_type": "code",
   "execution_count": 52,
   "id": "e9c7a109-a151-4df1-9573-f23d53876f4a",
   "metadata": {},
   "outputs": [
    {
     "data": {
      "text/plain": [
       "'n'"
      ]
     },
     "execution_count": 52,
     "metadata": {},
     "output_type": "execute_result"
    }
   ],
   "source": [
    "next(s)"
   ]
  },
  {
   "cell_type": "code",
   "execution_count": 53,
   "id": "32fd2f1f-ba2f-4cdc-bab1-39b7319b83bb",
   "metadata": {},
   "outputs": [
    {
     "data": {
      "text/plain": [
       "'e'"
      ]
     },
     "execution_count": 53,
     "metadata": {},
     "output_type": "execute_result"
    }
   ],
   "source": [
    "next(s)"
   ]
  },
  {
   "cell_type": "code",
   "execution_count": 55,
   "id": "e63543af-1585-4417-8f37-1cffa1ecb834",
   "metadata": {},
   "outputs": [
    {
     "data": {
      "text/plain": [
       "'e'"
      ]
     },
     "execution_count": 55,
     "metadata": {},
     "output_type": "execute_result"
    }
   ],
   "source": [
    "next(s)"
   ]
  },
  {
   "cell_type": "code",
   "execution_count": 56,
   "id": "15868704-1a44-45c1-849a-1844620785b3",
   "metadata": {},
   "outputs": [
    {
     "data": {
      "text/plain": [
       "'r'"
      ]
     },
     "execution_count": 56,
     "metadata": {},
     "output_type": "execute_result"
    }
   ],
   "source": [
    "next(s)"
   ]
  },
  {
   "cell_type": "code",
   "execution_count": 57,
   "id": "2ad45816-b8fa-4ccc-a523-2eb77c24393c",
   "metadata": {},
   "outputs": [
    {
     "data": {
      "text/plain": [
       "'a'"
      ]
     },
     "execution_count": 57,
     "metadata": {},
     "output_type": "execute_result"
    }
   ],
   "source": [
    "next(s)"
   ]
  },
  {
   "cell_type": "code",
   "execution_count": 58,
   "id": "81be0197-29c1-4ac2-ae37-21c561a8ad39",
   "metadata": {},
   "outputs": [
    {
     "data": {
      "text/plain": [
       "'j'"
      ]
     },
     "execution_count": 58,
     "metadata": {},
     "output_type": "execute_result"
    }
   ],
   "source": [
    "next(s)"
   ]
  },
  {
   "cell_type": "code",
   "execution_count": 59,
   "id": "481e3e30-b42c-4df2-aebf-d8d229f52c71",
   "metadata": {},
   "outputs": [
    {
     "ename": "StopIteration",
     "evalue": "",
     "output_type": "error",
     "traceback": [
      "\u001b[0;31m---------------------------------------------------------------------------\u001b[0m",
      "\u001b[0;31mStopIteration\u001b[0m                             Traceback (most recent call last)",
      "Cell \u001b[0;32mIn[59], line 1\u001b[0m\n\u001b[0;32m----> 1\u001b[0m \u001b[38;5;28;43mnext\u001b[39;49m\u001b[43m(\u001b[49m\u001b[43ms\u001b[49m\u001b[43m)\u001b[49m\n",
      "\u001b[0;31mStopIteration\u001b[0m: "
     ]
    }
   ],
   "source": [
    "next(s) # it will show the stop "
   ]
  },
  {
   "cell_type": "markdown",
   "id": "996036bb-c7e6-41ba-8db6-ff957aa913e0",
   "metadata": {},
   "source": [
    "# This is the concept of the for loop"
   ]
  },
  {
   "cell_type": "code",
   "execution_count": 63,
   "id": "833b7a0d-8198-491a-ac08-aca841a671b7",
   "metadata": {},
   "outputs": [],
   "source": [
    "s2=\"pwskills\""
   ]
  },
  {
   "cell_type": "code",
   "execution_count": 64,
   "id": "c0a7ab1c-6ead-4222-bfc9-b67fdffb5327",
   "metadata": {},
   "outputs": [
    {
     "ename": "TypeError",
     "evalue": "'str' object is not an iterator",
     "output_type": "error",
     "traceback": [
      "\u001b[0;31m---------------------------------------------------------------------------\u001b[0m",
      "\u001b[0;31mTypeError\u001b[0m                                 Traceback (most recent call last)",
      "Cell \u001b[0;32mIn[64], line 1\u001b[0m\n\u001b[0;32m----> 1\u001b[0m \u001b[38;5;28;43mnext\u001b[39;49m\u001b[43m(\u001b[49m\u001b[43ms2\u001b[49m\u001b[43m)\u001b[49m \u001b[38;5;66;03m# abh ye error kyu de raha hai \u001b[39;00m\n",
      "\u001b[0;31mTypeError\u001b[0m: 'str' object is not an iterator"
     ]
    }
   ],
   "source": [
    "next(s2) # abh ye error kyu de raha hai "
   ]
  },
  {
   "cell_type": "code",
   "execution_count": 65,
   "id": "376d4933-1a01-41fc-917c-1af17b7eb522",
   "metadata": {},
   "outputs": [
    {
     "name": "stdout",
     "output_type": "stream",
     "text": [
      "p\n",
      "w\n",
      "s\n",
      "k\n",
      "i\n",
      "l\n",
      "l\n",
      "s\n"
     ]
    }
   ],
   "source": [
    "for i in s2:\n",
    "    print(i)"
   ]
  },
  {
   "cell_type": "code",
   "execution_count": 66,
   "id": "e6f87b51-cd69-4d05-9a08-0519fe75d38b",
   "metadata": {},
   "outputs": [],
   "source": [
    "s2=iter(\"pwskills\")"
   ]
  },
  {
   "cell_type": "code",
   "execution_count": 67,
   "id": "3f574e2a-e680-4e7c-a633-793c1a54a9b7",
   "metadata": {},
   "outputs": [
    {
     "data": {
      "text/plain": [
       "'p'"
      ]
     },
     "execution_count": 67,
     "metadata": {},
     "output_type": "execute_result"
    }
   ],
   "source": [
    "next(s2)"
   ]
  },
  {
   "cell_type": "markdown",
   "id": "c7ced06b-3001-4f92-9f8b-3c0d46280e51",
   "metadata": {},
   "source": [
    "# Here in above example i am trying to understand the for loop working"
   ]
  },
  {
   "cell_type": "code",
   "execution_count": 68,
   "id": "2601a448-7ec2-4a53-bf21-7bca8ae9d38f",
   "metadata": {},
   "outputs": [
    {
     "ename": "TypeError",
     "evalue": "'int' object is not iterable",
     "output_type": "error",
     "traceback": [
      "\u001b[0;31m---------------------------------------------------------------------------\u001b[0m",
      "\u001b[0;31mTypeError\u001b[0m                                 Traceback (most recent call last)",
      "Cell \u001b[0;32mIn[68], line 1\u001b[0m\n\u001b[0;32m----> 1\u001b[0m \u001b[38;5;28;43miter\u001b[39;49m\u001b[43m(\u001b[49m\u001b[38;5;241;43m20\u001b[39;49m\u001b[43m)\u001b[49m\n",
      "\u001b[0;31mTypeError\u001b[0m: 'int' object is not iterable"
     ]
    }
   ],
   "source": [
    "iter(20)"
   ]
  },
  {
   "cell_type": "markdown",
   "id": "2b2ef422-7b8c-4c3a-b07a-187cea8e3376",
   "metadata": {},
   "source": [
    "# if some object are not iterable will i able to convert into iterator so answer is no"
   ]
  },
  {
   "cell_type": "code",
   "execution_count": 69,
   "id": "302ba1d9-1fa3-4616-bf06-ca8766f7767d",
   "metadata": {},
   "outputs": [
    {
     "ename": "TypeError",
     "evalue": "'int' object is not iterable",
     "output_type": "error",
     "traceback": [
      "\u001b[0;31m---------------------------------------------------------------------------\u001b[0m",
      "\u001b[0;31mTypeError\u001b[0m                                 Traceback (most recent call last)",
      "Cell \u001b[0;32mIn[69], line 1\u001b[0m\n\u001b[0;32m----> 1\u001b[0m \u001b[38;5;28;01mfor\u001b[39;00m i \u001b[38;5;129;01min\u001b[39;00m \u001b[38;5;241m2345\u001b[39m:\n\u001b[1;32m      2\u001b[0m     \u001b[38;5;28mprint\u001b[39m(i)\n",
      "\u001b[0;31mTypeError\u001b[0m: 'int' object is not iterable"
     ]
    }
   ],
   "source": [
    "for i in 2345:\n",
    "    print(i) # bcz the number is not iteralbe so i can't convert into iterator"
   ]
  },
  {
   "cell_type": "code",
   "execution_count": 70,
   "id": "022949ff-51b4-40bb-9f5c-4004bde68351",
   "metadata": {},
   "outputs": [
    {
     "name": "stdout",
     "output_type": "stream",
     "text": [
      "1\n",
      "2\n",
      "3\n",
      "4\n"
     ]
    }
   ],
   "source": [
    "for i in (1,2,3,4): # tuple is iterable\n",
    "    print(i)"
   ]
  },
  {
   "cell_type": "code",
   "execution_count": 72,
   "id": "afbc1989-a100-427e-9a57-38177ddaa260",
   "metadata": {},
   "outputs": [
    {
     "name": "stdout",
     "output_type": "stream",
     "text": [
      "1\n",
      "3\n",
      "neeraj\n"
     ]
    }
   ],
   "source": [
    "for i in {1,\"neeraj\",3}: # set is also iterable\n",
    "    print(i)"
   ]
  },
  {
   "cell_type": "code",
   "execution_count": 78,
   "id": "dec29f93-260b-40f7-8930-02b996297c79",
   "metadata": {},
   "outputs": [],
   "source": [
    "d=iter({'key1':\"neeraj\",\"key2\":\"vijay\"}) # dictionary is iterable "
   ]
  },
  {
   "cell_type": "code",
   "execution_count": 79,
   "id": "36efa200-cc0b-4e01-97ff-cc7a2bda3409",
   "metadata": {},
   "outputs": [
    {
     "data": {
      "text/plain": [
       "<dict_keyiterator at 0x7efe3e541e90>"
      ]
     },
     "execution_count": 79,
     "metadata": {},
     "output_type": "execute_result"
    }
   ],
   "source": [
    "d"
   ]
  },
  {
   "cell_type": "code",
   "execution_count": 80,
   "id": "b44acf8e-0822-4123-a6e6-72eb31d22ac3",
   "metadata": {},
   "outputs": [
    {
     "data": {
      "text/plain": [
       "'key1'"
      ]
     },
     "execution_count": 80,
     "metadata": {},
     "output_type": "execute_result"
    }
   ],
   "source": [
    "next(d)"
   ]
  },
  {
   "cell_type": "code",
   "execution_count": 81,
   "id": "eff1483d-f73b-4207-96ab-a1c7860c5fcd",
   "metadata": {},
   "outputs": [
    {
     "data": {
      "text/plain": [
       "'key2'"
      ]
     },
     "execution_count": 81,
     "metadata": {},
     "output_type": "execute_result"
    }
   ],
   "source": [
    "next(d)"
   ]
  },
  {
   "cell_type": "markdown",
   "id": "7bd0ede0-a370-40a7-8d87-fe42926fe551",
   "metadata": {},
   "source": [
    "# generator function"
   ]
  },
  {
   "cell_type": "code",
   "execution_count": 82,
   "id": "ddab09dc-aa88-4695-ab45-9e702185f4ed",
   "metadata": {},
   "outputs": [
    {
     "data": {
      "text/plain": [
       "range(0, 5)"
      ]
     },
     "execution_count": 82,
     "metadata": {},
     "output_type": "execute_result"
    }
   ],
   "source": [
    "range(0,5)"
   ]
  },
  {
   "cell_type": "code",
   "execution_count": 83,
   "id": "609f124d-8083-4566-90ef-4a2e9295e727",
   "metadata": {},
   "outputs": [
    {
     "data": {
      "text/plain": [
       "[0, 1, 2, 3, 4]"
      ]
     },
     "execution_count": 83,
     "metadata": {},
     "output_type": "execute_result"
    }
   ],
   "source": [
    "list(range(0,5))"
   ]
  },
  {
   "cell_type": "code",
   "execution_count": 84,
   "id": "0844e321-45f4-4ad3-ba92-77687926d1f5",
   "metadata": {},
   "outputs": [
    {
     "name": "stdout",
     "output_type": "stream",
     "text": [
      "0\n",
      "1\n",
      "2\n",
      "3\n",
      "4\n"
     ]
    }
   ],
   "source": [
    "for i in range(0,5):\n",
    "    print(i)"
   ]
  },
  {
   "cell_type": "code",
   "execution_count": 86,
   "id": "be4af09f-f101-4ede-a93d-9024e4e77cdf",
   "metadata": {},
   "outputs": [],
   "source": [
    "i=iter(range(0,5)) "
   ]
  },
  {
   "cell_type": "code",
   "execution_count": 88,
   "id": "3c827db0-2b34-401b-a507-b6d378f4ea37",
   "metadata": {},
   "outputs": [
    {
     "data": {
      "text/plain": [
       "<range_iterator at 0x7efe3e48e8b0>"
      ]
     },
     "execution_count": 88,
     "metadata": {},
     "output_type": "execute_result"
    }
   ],
   "source": [
    " i # range is iteraable object"
   ]
  },
  {
   "cell_type": "code",
   "execution_count": 89,
   "id": "470064d1-05c0-4580-a784-41694674376a",
   "metadata": {},
   "outputs": [
    {
     "data": {
      "text/plain": [
       "0"
      ]
     },
     "execution_count": 89,
     "metadata": {},
     "output_type": "execute_result"
    }
   ],
   "source": [
    "next(i)"
   ]
  },
  {
   "cell_type": "code",
   "execution_count": 90,
   "id": "d263c957-d65c-4d29-b6b8-3542a95b5ad1",
   "metadata": {},
   "outputs": [
    {
     "data": {
      "text/plain": [
       "1"
      ]
     },
     "execution_count": 90,
     "metadata": {},
     "output_type": "execute_result"
    }
   ],
   "source": [
    "next(i)"
   ]
  },
  {
   "cell_type": "code",
   "execution_count": 91,
   "id": "80daaf71-6654-4e1a-86d0-a18be7d6b609",
   "metadata": {},
   "outputs": [
    {
     "data": {
      "text/plain": [
       "2"
      ]
     },
     "execution_count": 91,
     "metadata": {},
     "output_type": "execute_result"
    }
   ],
   "source": [
    "next(i)"
   ]
  },
  {
   "cell_type": "code",
   "execution_count": 92,
   "id": "cc068ed1-c73b-4971-995c-59b636ebffc3",
   "metadata": {},
   "outputs": [
    {
     "data": {
      "text/plain": [
       "3"
      ]
     },
     "execution_count": 92,
     "metadata": {},
     "output_type": "execute_result"
    }
   ],
   "source": [
    "next(i)"
   ]
  },
  {
   "cell_type": "code",
   "execution_count": 93,
   "id": "a0e4c589-b756-4911-ab99-220dc9489feb",
   "metadata": {},
   "outputs": [
    {
     "data": {
      "text/plain": [
       "4"
      ]
     },
     "execution_count": 93,
     "metadata": {},
     "output_type": "execute_result"
    }
   ],
   "source": [
    "next(i)"
   ]
  },
  {
   "cell_type": "code",
   "execution_count": 94,
   "id": "c5832b0e-b951-4b5c-ad82-1510aaec2468",
   "metadata": {},
   "outputs": [
    {
     "ename": "StopIteration",
     "evalue": "",
     "output_type": "error",
     "traceback": [
      "\u001b[0;31m---------------------------------------------------------------------------\u001b[0m",
      "\u001b[0;31mStopIteration\u001b[0m                             Traceback (most recent call last)",
      "Cell \u001b[0;32mIn[94], line 1\u001b[0m\n\u001b[0;32m----> 1\u001b[0m \u001b[38;5;28;43mnext\u001b[39;49m\u001b[43m(\u001b[49m\u001b[43mi\u001b[49m\u001b[43m)\u001b[49m\n",
      "\u001b[0;31mStopIteration\u001b[0m: "
     ]
    }
   ],
   "source": [
    "next(i) # it will show the error bcz it stops "
   ]
  },
  {
   "cell_type": "markdown",
   "id": "dada96c5-974b-46ae-944f-9c760ec2ca5a",
   "metadata": {},
   "source": [
    "# lets try to create range like function"
   ]
  },
  {
   "cell_type": "code",
   "execution_count": 95,
   "id": "eddcab54-ea0c-43d1-b408-21b058d221b7",
   "metadata": {},
   "outputs": [
    {
     "data": {
      "text/plain": [
       "range(0, 5)"
      ]
     },
     "execution_count": 95,
     "metadata": {},
     "output_type": "execute_result"
    }
   ],
   "source": [
    "range(0,5)"
   ]
  },
  {
   "cell_type": "code",
   "execution_count": 96,
   "id": "47faf41a-69dd-4181-a04b-cb18ec6bcbf3",
   "metadata": {},
   "outputs": [
    {
     "data": {
      "text/plain": [
       "6"
      ]
     },
     "execution_count": 96,
     "metadata": {},
     "output_type": "execute_result"
    }
   ],
   "source": [
    "len(\"neeraj\")"
   ]
  },
  {
   "cell_type": "code",
   "execution_count": 97,
   "id": "99b6ea90-fae7-49f1-a497-4d059a6440e8",
   "metadata": {},
   "outputs": [],
   "source": [
    "def count_fun(n):\n",
    "    i=1\n",
    "    while i<=n:\n",
    "        yield i # yield means produce something\n",
    "        i=i+1"
   ]
  },
  {
   "cell_type": "code",
   "execution_count": 98,
   "id": "f58d9da6-799e-4937-97e8-0d39eff87d09",
   "metadata": {},
   "outputs": [
    {
     "data": {
      "text/plain": [
       "<generator object count_fun at 0x7efe3e4b6ea0>"
      ]
     },
     "execution_count": 98,
     "metadata": {},
     "output_type": "execute_result"
    }
   ],
   "source": [
    "count_fun(9)"
   ]
  },
  {
   "cell_type": "code",
   "execution_count": 99,
   "id": "b9628bdf-bbb6-41c0-a2bb-e02581c5e48d",
   "metadata": {},
   "outputs": [
    {
     "name": "stdout",
     "output_type": "stream",
     "text": [
      "1\n",
      "2\n",
      "3\n",
      "4\n",
      "5\n",
      "6\n",
      "7\n",
      "8\n",
      "9\n"
     ]
    }
   ],
   "source": [
    "for i in count_fun(9):\n",
    "    print(i)"
   ]
  },
  {
   "cell_type": "code",
   "execution_count": 100,
   "id": "fb09a13d-f7f7-4239-acfe-f554a7c73302",
   "metadata": {},
   "outputs": [
    {
     "data": {
      "text/plain": [
       "1"
      ]
     },
     "execution_count": 100,
     "metadata": {},
     "output_type": "execute_result"
    }
   ],
   "source": [
    "j=next(count_fun(9))"
   ]
  },
  {
   "cell_type": "code",
   "execution_count": 101,
   "id": "91fd9eba-dea3-4e4b-af5f-7d00362ee4b6",
   "metadata": {},
   "outputs": [
    {
     "data": {
      "text/plain": [
       "1"
      ]
     },
     "execution_count": 101,
     "metadata": {},
     "output_type": "execute_result"
    }
   ],
   "source": [
    "next(count_fun(9))"
   ]
  },
  {
   "cell_type": "code",
   "execution_count": 102,
   "id": "ac5c9bb2-0ffa-49d2-afca-0ce44e9f0425",
   "metadata": {},
   "outputs": [],
   "source": [
    "def count_fun(n):\n",
    "    i=1\n",
    "    while i<=n:\n",
    "        return i \n",
    "        i=i+1"
   ]
  },
  {
   "cell_type": "code",
   "execution_count": 103,
   "id": "1388bac0-68a5-40a9-94c0-ad695fdae841",
   "metadata": {},
   "outputs": [
    {
     "data": {
      "text/plain": [
       "1"
      ]
     },
     "execution_count": 103,
     "metadata": {},
     "output_type": "execute_result"
    }
   ],
   "source": [
    "count_fun(5)"
   ]
  },
  {
   "cell_type": "code",
   "execution_count": 104,
   "id": "ae3ca84d-ae8d-475b-9f20-19db8c808435",
   "metadata": {},
   "outputs": [],
   "source": [
    "def count_fun(n):\n",
    "    i=1\n",
    "    while i<=n:\n",
    "      \n",
    "        i=i+1\n",
    "    return i      "
   ]
  },
  {
   "cell_type": "code",
   "execution_count": 105,
   "id": "ed9ebf81-bf99-4a6f-904a-eeab3364c73f",
   "metadata": {},
   "outputs": [
    {
     "data": {
      "text/plain": [
       "6"
      ]
     },
     "execution_count": 105,
     "metadata": {},
     "output_type": "execute_result"
    }
   ],
   "source": [
    "count_fun(5)"
   ]
  },
  {
   "cell_type": "code",
   "execution_count": 106,
   "id": "86df0b0e-259b-42fe-8aa9-3bd57a891f9e",
   "metadata": {},
   "outputs": [],
   "source": [
    "def count_fun(n):\n",
    "    i=1\n",
    "    l=[]\n",
    "    while i<=n:\n",
    "        l.append(i)\n",
    "      \n",
    "        i=i+1\n",
    "    return l     "
   ]
  },
  {
   "cell_type": "code",
   "execution_count": 107,
   "id": "7eaee69a-01cf-461e-9a97-7d3580c2e078",
   "metadata": {},
   "outputs": [
    {
     "data": {
      "text/plain": [
       "[1, 2, 3, 4, 5, 6, 7, 8, 9, 10, 11, 12]"
      ]
     },
     "execution_count": 107,
     "metadata": {},
     "output_type": "execute_result"
    }
   ],
   "source": [
    "count_fun(12)"
   ]
  },
  {
   "cell_type": "code",
   "execution_count": 108,
   "id": "e0f1f752-35dd-46c1-a2f2-fa39c712399c",
   "metadata": {},
   "outputs": [],
   "source": [
    "def count_fun(n):\n",
    "    i=1\n",
    "    while i<=n:\n",
    "        yield i # yield means produce something\n",
    "        i=i+1"
   ]
  },
  {
   "cell_type": "code",
   "execution_count": 117,
   "id": "7e8e3e5c-8cf0-4650-83d8-effb1429217c",
   "metadata": {},
   "outputs": [
    {
     "name": "stdout",
     "output_type": "stream",
     "text": [
      "1,2,3,4,5,6,7,8,9,10,11,12,13,14,15,16,17,18,19,20,21,22,23,24,25,26,27,28,29,30,31,32,33,34,35,36,37,38,39,40,41,42,43,44,45,46,47,48,49,50,51,52,53,54,55,56,57,58,59,60,61,62,63,64,65,66,67,68,69,70,71,72,73,74,75,76,77,78,79,80,81,82,83,84,85,86,87,88,89,90,91,92,93,94,95,96,97,98,99,100,101,102,103,104,105,106,107,108,109,110,111,112,113,114,115,116,117,118,119,120,121,122,123,124,125,126,127,128,129,130,131,132,133,134,135,136,137,138,139,140,141,142,143,144,145,146,147,148,149,150,151,152,153,154,155,156,157,158,159,160,161,162,163,164,165,166,167,168,169,170,171,172,173,174,175,176,177,178,179,180,181,182,183,184,185,186,187,188,189,190,191,192,193,194,195,196,197,198,199,200,201,202,203,204,205,206,207,208,209,210,211,212,213,214,215,216,217,218,219,220,221,222,223,224,225,226,227,228,229,230,231,232,233,234,"
     ]
    }
   ],
   "source": [
    "for i in count_fun(234): # so for producing huge number of datas we should use the yield function\n",
    "    print(i,end=',')"
   ]
  },
  {
   "cell_type": "markdown",
   "id": "9b745938-f1f6-4010-a376-a6028ef0e58b",
   "metadata": {},
   "source": [
    "# try to generate a fibnaaci series by generator function"
   ]
  },
  {
   "cell_type": "code",
   "execution_count": 118,
   "id": "e368d7e2-4ec4-4051-af99-4045502958d0",
   "metadata": {},
   "outputs": [],
   "source": [
    "def fib(n):\n",
    "    a,b=0,1\n",
    "    for i in range(n):\n",
    "        yield a\n",
    "        a,b=b,a+b"
   ]
  },
  {
   "cell_type": "code",
   "execution_count": 123,
   "id": "cec0a01f-9ca9-4e2f-9f27-42b5928906e5",
   "metadata": {},
   "outputs": [
    {
     "name": "stdout",
     "output_type": "stream",
     "text": [
      "0,1,1,2,3,5,8,13,21,34,55,89,144,233,377,610,987,1597,2584,4181,6765,10946,17711,"
     ]
    }
   ],
   "source": [
    "for i in fib(23):\n",
    "    print(i,end=',')"
   ]
  },
  {
   "cell_type": "code",
   "execution_count": 124,
   "id": "25f1c23f-7178-4136-9f9f-4ebe1bf211b4",
   "metadata": {},
   "outputs": [
    {
     "name": "stdout",
     "output_type": "stream",
     "text": [
      " 17_sep_assign.ipynb  'Control Statement.ipynb'   pw.txt\n",
      " 23_September.ipynb    Function.ipynb             Untitled.ipynb\n",
      " 24September.ipynb     Live.ipynb\n"
     ]
    }
   ],
   "source": [
    "ls"
   ]
  },
  {
   "cell_type": "code",
   "execution_count": 125,
   "id": "0d3522ca-3471-4d3e-a81c-910372c67b56",
   "metadata": {},
   "outputs": [
    {
     "data": {
      "text/plain": [
       "'/home/jovyan/work'"
      ]
     },
     "execution_count": 125,
     "metadata": {},
     "output_type": "execute_result"
    }
   ],
   "source": [
    "pwd"
   ]
  },
  {
   "cell_type": "markdown",
   "id": "87c956ea-3876-4497-a63c-69083ca95f9b",
   "metadata": {},
   "source": [
    "# read out any kind of file "
   ]
  },
  {
   "cell_type": "code",
   "execution_count": 127,
   "id": "96cc60a9-0893-43e1-9d23-b8bdee4cb722",
   "metadata": {},
   "outputs": [
    {
     "name": "stdout",
     "output_type": "stream",
     "text": [
      "Explain the concept of recursion in Python. How does it differ from iteration?\n",
      "\n",
      "2. Write a Python program to calculate the factorial of a number using recursion.\n",
      "\n",
      "3. Create a recursive Python function to find the nth Fibonacci number.\n",
      "\n",
      "4. Write a recursive Python function to calculate the sum of all elements in a list.\n",
      "\n",
      "5. How can you prevent a recursive function from running indefinitely, causing a stack overflow\n",
      "\n",
      "error?\n",
      "\n",
      "6. Create a recursive Python function to find the greatest common divisor (GCD) of two numbers\n",
      "\n",
      "using the Euclidean algorithm.\n",
      "\n",
      "7. Write a recursive Python function to reverse a string.\n",
      "\n",
      "8. Create a recursive Python function to calculate the power of a number (x^n).\n",
      "\n",
      "9. Write a recursive Python function to find all permutations of a given string.\n",
      "\n",
      "10. Write a recursive Python function to check if a string is a palindrome.\n",
      "\n",
      "11. Create a recursive Python function to generate all possible combinations of a list of elements.\n",
      "\n",
      "Basics of Functions:\n",
      "\n",
      "1. What is a function in Python, and why is it used?\n",
      "\n",
      "2. How do you define a function in Python? Provide an example.\n",
      "\n",
      "3. Explain the difference between a function definition and a function call.\n",
      "\n",
      "4. Write a Python program that defines a function to calculate the sum of two numbers and then\n",
      "\n",
      "calls the function.\n",
      "\n",
      "5. What is a function signature, and what information does it typically include?\n",
      "\n",
      "6. Create a Python function that takes two arguments and returns their product.\n",
      "\n",
      "Function Parameters and Arguments:\n",
      "\n",
      "1. Explain\n"
     ]
    }
   ],
   "source": [
    "for i in open(\"pw.txt\"): # how to open and file read\n",
    "    print(i)"
   ]
  },
  {
   "cell_type": "markdown",
   "id": "0b275fb0-e8fb-4f4b-8ea6-f59d0756c9d7",
   "metadata": {},
   "source": [
    "# Using yield function"
   ]
  },
  {
   "cell_type": "code",
   "execution_count": 128,
   "id": "bf1ba25b-1637-4aab-bf07-974cf9c64d7b",
   "metadata": {},
   "outputs": [],
   "source": [
    "def read_file(file_name):\n",
    "    with open(file_name) as file :\n",
    "        for i in file:\n",
    "            yield i\n",
    "        "
   ]
  },
  {
   "cell_type": "code",
   "execution_count": 129,
   "id": "c9d7ec5d-b6b0-4104-bd37-0bfeb99fc829",
   "metadata": {},
   "outputs": [
    {
     "data": {
      "text/plain": [
       "<generator object read_file at 0x7efe3e02f4c0>"
      ]
     },
     "execution_count": 129,
     "metadata": {},
     "output_type": "execute_result"
    }
   ],
   "source": [
    "read_file(\"pw.txt\")"
   ]
  },
  {
   "cell_type": "code",
   "execution_count": 131,
   "id": "f947b58a-f194-4735-954b-70b77a2a475f",
   "metadata": {},
   "outputs": [
    {
     "name": "stdout",
     "output_type": "stream",
     "text": [
      "Explain the concept of recursion in Python. How does it differ from iteration?\n",
      "\n",
      "2. Write a Python program to calculate the factorial of a number using recursion.\n",
      "\n",
      "3. Create a recursive Python function to find the nth Fibonacci number.\n",
      "\n",
      "4. Write a recursive Python function to calculate the sum of all elements in a list.\n",
      "\n",
      "5. How can you prevent a recursive function from running indefinitely, causing a stack overflow\n",
      "\n",
      "error?\n",
      "\n",
      "6. Create a recursive Python function to find the greatest common divisor (GCD) of two numbers\n",
      "\n",
      "using the Euclidean algorithm.\n",
      "\n",
      "7. Write a recursive Python function to reverse a string.\n",
      "\n",
      "8. Create a recursive Python function to calculate the power of a number (x^n).\n",
      "\n",
      "9. Write a recursive Python function to find all permutations of a given string.\n",
      "\n",
      "10. Write a recursive Python function to check if a string is a palindrome.\n",
      "\n",
      "11. Create a recursive Python function to generate all possible combinations of a list of elements.\n",
      "\n",
      "Basics of Functions:\n",
      "\n",
      "1. What is a function in Python, and why is it used?\n",
      "\n",
      "2. How do you define a function in Python? Provide an example.\n",
      "\n",
      "3. Explain the difference between a function definition and a function call.\n",
      "\n",
      "4. Write a Python program that defines a function to calculate the sum of two numbers and then\n",
      "\n",
      "calls the function.\n",
      "\n",
      "5. What is a function signature, and what information does it typically include?\n",
      "\n",
      "6. Create a Python function that takes two arguments and returns their product.\n",
      "\n",
      "Function Parameters and Arguments:\n",
      "\n",
      "1. Explain\n"
     ]
    }
   ],
   "source": [
    "for i in read_file(\"pw.txt\"):\n",
    "    print(i)"
   ]
  },
  {
   "cell_type": "markdown",
   "id": "ce53483e-ceb5-474e-b6cc-c163518f8cec",
   "metadata": {},
   "source": [
    "# these  above concept use when your file size is very large then we use yield function"
   ]
  },
  {
   "cell_type": "markdown",
   "id": "edf9b66f-cf13-4b10-8176-84761197b914",
   "metadata": {},
   "source": [
    "# Note : decomposition is always in recursive "
   ]
  },
  {
   "cell_type": "code",
   "execution_count": null,
   "id": "243e47e0-6769-4b48-b182-8a45b243e077",
   "metadata": {},
   "outputs": [],
   "source": []
  }
 ],
 "metadata": {
  "kernelspec": {
   "display_name": "Python 3 (ipykernel)",
   "language": "python",
   "name": "python3"
  },
  "language_info": {
   "codemirror_mode": {
    "name": "ipython",
    "version": 3
   },
   "file_extension": ".py",
   "mimetype": "text/x-python",
   "name": "python",
   "nbconvert_exporter": "python",
   "pygments_lexer": "ipython3",
   "version": "3.10.8"
  }
 },
 "nbformat": 4,
 "nbformat_minor": 5
}
