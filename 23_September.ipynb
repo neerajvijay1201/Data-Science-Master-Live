{
 "cells": [
  {
   "cell_type": "markdown",
   "id": "3b4b6bfa-1702-4d3f-b73b-f7cae08826c6",
   "metadata": {},
   "source": [
    "# 23rd September"
   ]
  },
  {
   "cell_type": "code",
   "execution_count": 2,
   "id": "a0fbce7e-1a83-4b2c-bc1c-62883717ed20",
   "metadata": {},
   "outputs": [
    {
     "name": "stdout",
     "output_type": "stream",
     "text": [
      "hello neeraj how are you i hope you are very fine\n"
     ]
    }
   ],
   "source": [
    "print(\"hello neeraj how are you i hope you are very fine\")"
   ]
  },
  {
   "cell_type": "code",
   "execution_count": null,
   "id": "d71fb8f7-0607-45b2-926e-33bc3b0a7ce5",
   "metadata": {},
   "outputs": [],
   "source": [
    "## Todays Topic"
   ]
  },
  {
   "cell_type": "markdown",
   "id": "9c72cc37-b68b-402a-a1ce-c07d3721c43f",
   "metadata": {},
   "source": [
    "# while loop"
   ]
  },
  {
   "cell_type": "code",
   "execution_count": null,
   "id": "d9427082-b08a-4b81-b48a-3e8210018640",
   "metadata": {},
   "outputs": [],
   "source": [
    "while True:\n",
    "    ##print(\"This is my first while loop\") # it will  run infinite time "
   ]
  },
  {
   "cell_type": "markdown",
   "id": "643aef55-ff29-484e-8477-e5c68520d6b0",
   "metadata": {},
   "source": [
    "# try to print starting from upper buund to 1"
   ]
  },
  {
   "cell_type": "code",
   "execution_count": 4,
   "id": "58476326-6b91-4bda-9856-235609d271f1",
   "metadata": {},
   "outputs": [
    {
     "name": "stdout",
     "output_type": "stream",
     "text": [
      "100,99,98,97,96,95,94,93,92,91,90,89,88,87,86,85,84,83,82,81,80,79,78,77,76,75,74,73,72,71,70,69,68,67,66,65,64,63,62,61,60,59,58,57,56,55,54,53,52,51,50,49,48,47,46,45,44,43,42,41,40,39,38,37,36,35,34,33,32,31,30,29,28,27,26,25,24,23,22,21,20,19,18,17,16,15,14,13,12,11,10,9,8,7,6,5,4,3,2,1,"
     ]
    }
   ],
   "source": [
    "a=100\n",
    "while a>=1:\n",
    "    print(a,end=',')\n",
    "    a=a-1"
   ]
  },
  {
   "cell_type": "markdown",
   "id": "21437370-5276-4b97-b5ff-af5bcc20a122",
   "metadata": {},
   "source": [
    "# add numbers starting to end\n"
   ]
  },
  {
   "cell_type": "code",
   "execution_count": 1,
   "id": "96421e53-2f68-4808-836e-126f7c19f825",
   "metadata": {},
   "outputs": [
    {
     "name": "stdout",
     "output_type": "stream",
     "text": [
      "55\n"
     ]
    }
   ],
   "source": [
    "s=0\n",
    "n=1 # starting number\n",
    "t=10 # end number\n",
    "while n<=t:\n",
    "    s=s+n\n",
    "    n=n+1\n",
    "print(s)    "
   ]
  },
  {
   "cell_type": "markdown",
   "id": "b67b57f4-4afc-4870-92eb-fe67770218dc",
   "metadata": {},
   "source": [
    "# Multiplication of the numbers using the while loop"
   ]
  },
  {
   "cell_type": "code",
   "execution_count": 4,
   "id": "d4244c2d-8b62-4a1f-933a-4f27978bcd1c",
   "metadata": {},
   "outputs": [
    {
     "name": "stdout",
     "output_type": "stream",
     "text": [
      "120\n"
     ]
    }
   ],
   "source": [
    "s=1\n",
    "n=1 # starting number\n",
    "t=5 # end number\n",
    "while n<=t:\n",
    "    s=s*n\n",
    "    n=n+1\n",
    "print(s)    "
   ]
  },
  {
   "cell_type": "markdown",
   "id": "805b451d-a4ba-487c-aedf-aad61d4d2578",
   "metadata": {},
   "source": [
    "# code for Multiplication table using while loop"
   ]
  },
  {
   "cell_type": "code",
   "execution_count": 5,
   "id": "7c92ec21-1c2e-4c51-b3c6-9ede2c621eeb",
   "metadata": {},
   "outputs": [
    {
     "name": "stdin",
     "output_type": "stream",
     "text": [
      "enter a number for which you are looking table: 19\n"
     ]
    },
    {
     "name": "stdout",
     "output_type": "stream",
     "text": [
      "19 * 1 = 19\n",
      "19 * 2 = 38\n",
      "19 * 3 = 57\n",
      "19 * 4 = 76\n",
      "19 * 5 = 95\n",
      "19 * 6 = 114\n",
      "19 * 7 = 133\n",
      "19 * 8 = 152\n",
      "19 * 9 = 171\n",
      "19 * 10 = 190\n"
     ]
    }
   ],
   "source": [
    "n=int(input(\"enter a number for which you are looking table:\"))\n",
    "i=1 # starting point\n",
    "while i<=10:\n",
    "    product=n*i\n",
    "    print(n,'*',i,'=',product)\n",
    "    i=i+1"
   ]
  },
  {
   "cell_type": "markdown",
   "id": "99b4956f-d96b-4058-838d-6389e7c9ffcc",
   "metadata": {},
   "source": [
    "# How to make a counter "
   ]
  },
  {
   "cell_type": "code",
   "execution_count": 1,
   "id": "62cb4960-e0f4-41f8-80a2-0e975a0c97eb",
   "metadata": {},
   "outputs": [
    {
     "name": "stdout",
     "output_type": "stream",
     "text": [
      "10\n",
      "9\n",
      "8\n",
      "7\n",
      "6\n",
      "5\n",
      "4\n",
      "3\n",
      "2\n",
      "1\n",
      "break time is over\n"
     ]
    }
   ],
   "source": [
    "import time \n",
    "s=10\n",
    "while s>0:\n",
    "    print(s)\n",
    "    time.sleep(1)\n",
    "    s=s-1\n",
    "print(\"break time is over\")    "
   ]
  },
  {
   "cell_type": "markdown",
   "id": "44febb17-7c8e-43a5-80ba-62d6043548d0",
   "metadata": {},
   "source": [
    "# simple vending machine"
   ]
  },
  {
   "cell_type": "code",
   "execution_count": 4,
   "id": "4a661e35-2e29-416a-812a-cea9987a93c5",
   "metadata": {},
   "outputs": [
    {
     "name": "stdout",
     "output_type": "stream",
     "text": [
      "20\n"
     ]
    },
    {
     "name": "stdin",
     "output_type": "stream",
     "text": [
      "enter your choice(1.biscuit,2.chips,3.redbull,4.coke) 1\n"
     ]
    },
    {
     "name": "stdout",
     "output_type": "stream",
     "text": [
      "take your biscuit\n",
      "16\n"
     ]
    },
    {
     "name": "stdin",
     "output_type": "stream",
     "text": [
      "enter your choice(1.biscuit,2.chips,3.redbull,4.coke) 2\n"
     ]
    },
    {
     "name": "stdout",
     "output_type": "stream",
     "text": [
      "take your chips\n",
      "11\n"
     ]
    },
    {
     "name": "stdin",
     "output_type": "stream",
     "text": [
      "enter your choice(1.biscuit,2.chips,3.redbull,4.coke) 3\n"
     ]
    },
    {
     "name": "stdout",
     "output_type": "stream",
     "text": [
      "take your redbull\n",
      "you don't have enough balance in your wallet\n"
     ]
    }
   ],
   "source": [
    "money_in_hand=20 # in rupees\n",
    "while money_in_hand>=4: # minimum amount 4 rupees\n",
    "    print(money_in_hand)\n",
    "    choice=int(input(\"enter your choice(1.biscuit,2.chips,3.redbull,4.coke)\"))\n",
    "    if choice==1:\n",
    "        print(\"take your biscuit\")\n",
    "        money_in_hand=money_in_hand-4\n",
    "    elif choice==2:\n",
    "        print(\"take your chips\")\n",
    "        money_in_hand=money_in_hand-5\n",
    "    elif choice==3:\n",
    "        print(\"take your redbull\")\n",
    "        money_in_hand=money_in_hand-10\n",
    "    elif choice==4:\n",
    "        print(\"take your coke\")\n",
    "        money_in_hand=money_in_hand-8   \n",
    "    else:\n",
    "        print(\"you have not entered the correct choice\")\n",
    "print(\"you don't have enough balance in your wallet\")          "
   ]
  },
  {
   "cell_type": "code",
   "execution_count": 2,
   "id": "a0cb05d0-0e24-4234-8af6-3bc9ed0999b7",
   "metadata": {},
   "outputs": [
    {
     "name": "stdout",
     "output_type": "stream",
     "text": [
      "enter s to stop the timer\n"
     ]
    },
    {
     "name": "stdin",
     "output_type": "stream",
     "text": [
      "enter s for stop s\n"
     ]
    },
    {
     "name": "stdout",
     "output_type": "stream",
     "text": [
      "start the class break is over\n"
     ]
    }
   ],
   "source": [
    "import time \n",
    "stop=False\n",
    "while not stop:\n",
    "    print(\"enter s to stop the timer\")\n",
    "    time.sleep(1)\n",
    "    press_stop=input(\"enter s for stop\")\n",
    "    \n",
    "    if press_stop.lower()=='s':\n",
    "        stop=True\n",
    "print(\"start the class break is over\")    "
   ]
  },
  {
   "cell_type": "markdown",
   "id": "25f9a7c7-632b-418c-ba58-b578a54f943f",
   "metadata": {},
   "source": []
  },
  {
   "cell_type": "code",
   "execution_count": 1,
   "id": "7eadcc67-aff3-4801-b173-09c21077a8f5",
   "metadata": {},
   "outputs": [
    {
     "name": "stdout",
     "output_type": "stream",
     "text": [
      "120\n",
      "119\n",
      "118\n",
      "117\n",
      "116\n",
      "115\n",
      "114\n",
      "113\n",
      "112\n",
      "111\n",
      "110\n",
      "109\n",
      "108\n",
      "107\n",
      "106\n",
      "105\n",
      "104\n",
      "103\n",
      "102\n",
      "101\n",
      "100\n",
      "99\n",
      "98\n",
      "97\n",
      "96\n",
      "95\n",
      "94\n",
      "93\n",
      "92\n",
      "91\n",
      "90\n",
      "89\n",
      "88\n",
      "87\n",
      "86\n",
      "85\n",
      "84\n",
      "83\n",
      "82\n",
      "81\n",
      "80\n",
      "79\n",
      "78\n",
      "77\n",
      "76\n",
      "75\n",
      "74\n",
      "73\n",
      "72\n",
      "71\n",
      "70\n",
      "69\n",
      "68\n",
      "67\n",
      "66\n",
      "65\n",
      "64\n",
      "63\n",
      "62\n",
      "61\n",
      "60\n",
      "59\n",
      "58\n",
      "57\n",
      "56\n",
      "55\n",
      "54\n",
      "53\n",
      "52\n",
      "51\n",
      "50\n",
      "49\n",
      "48\n",
      "47\n",
      "46\n",
      "45\n",
      "44\n",
      "43\n",
      "42\n",
      "41\n",
      "40\n",
      "39\n",
      "38\n",
      "37\n",
      "36\n",
      "35\n",
      "34\n",
      "33\n",
      "32\n",
      "31\n",
      "30\n",
      "29\n",
      "28\n",
      "27\n",
      "26\n",
      "25\n",
      "24\n",
      "23\n",
      "22\n",
      "21\n",
      "20\n",
      "19\n",
      "18\n",
      "17\n",
      "16\n",
      "15\n",
      "14\n",
      "13\n",
      "12\n",
      "11\n",
      "10\n",
      "9\n",
      "8\n",
      "7\n",
      "6\n",
      "5\n",
      "4\n",
      "3\n",
      "2\n",
      "1\n",
      "break time is over\n"
     ]
    }
   ],
   "source": [
    "import time \n",
    "s=120\n",
    "while s>0:\n",
    "    print(s)\n",
    "    time.sleep(1)\n",
    "    s=s-1\n",
    "print(\"break time is over\")    "
   ]
  },
  {
   "cell_type": "markdown",
   "id": "f743c20b-016c-4464-b601-8ef523a0d3ac",
   "metadata": {},
   "source": [
    "# banking login and only three 3 times you have chance to login after that your accout will be locked"
   ]
  },
  {
   "cell_type": "code",
   "execution_count": 2,
   "id": "64e92312-ea41-4bbf-bbf8-983d75d23652",
   "metadata": {},
   "outputs": [
    {
     "name": "stdin",
     "output_type": "stream",
     "text": [
      "enter your user id for account neeraj\n",
      "enter your passward for respective user id nnj\n",
      "enter your passward for respective user id sbjbj\n",
      "enter your passward for respective user id neeraj@76\n"
     ]
    },
    {
     "name": "stdout",
     "output_type": "stream",
     "text": [
      "you have logged in sucessfully\n"
     ]
    }
   ],
   "source": [
    "user_id=\"neeraj\"\n",
    "password=\"neeraj@76\"\n",
    "counter=1\n",
    "user_id_check=False\n",
    "userid=input(\"enter your user id for account\")\n",
    "while counter<=3:\n",
    "    \n",
    "    if userid==user_id:\n",
    "        user_id_check=True\n",
    "    else:\n",
    "        print(\"your user id is incorrect try again\")\n",
    "        break\n",
    "    if user_id_check==True:\n",
    "        pswd=input(\"enter your passward for respective user id\")\n",
    "        if pswd==password:\n",
    "            print(\"you have logged in sucessfully\")\n",
    "            break\n",
    "        counter=counter+1 \n",
    "        \n",
    "if counter>3:\n",
    "    print(\"you have attempted maximum times and your account is locked\")    "
   ]
  },
  {
   "cell_type": "markdown",
   "id": "c40c9d33-95eb-49ee-9e79-b936fb154d67",
   "metadata": {},
   "source": [
    "# To-do list"
   ]
  },
  {
   "cell_type": "code",
   "execution_count": 2,
   "id": "027a9bb7-ccf0-4541-bb27-60ef41df0a30",
   "metadata": {},
   "outputs": [
    {
     "name": "stdin",
     "output_type": "stream",
     "text": [
      "enter your todo task class\n",
      "enter n id you want to add in todo list or y if you dont want to add n\n",
      "enter your todo task break\n",
      "enter n id you want to add in todo list or y if you dont want to add y\n"
     ]
    },
    {
     "name": "stdout",
     "output_type": "stream",
     "text": [
      "my todo list is ['class', 'break']\n"
     ]
    }
   ],
   "source": [
    "todo_list=[]\n",
    "end_of_todo='n' # n stands for no \n",
    "while end_of_todo!='y': # y stands for yes\n",
    "    todo_item=input(\"enter your todo task\")\n",
    "    todo_list.append(todo_item)\n",
    "    end_of_todo=input(\"enter n id you want to add in todo list or y if you dont want to add\")\n",
    "print(\"my todo list is\",todo_list)    "
   ]
  },
  {
   "cell_type": "markdown",
   "id": "f500a323-39c6-41b2-8f44-75da9a8f1c8f",
   "metadata": {},
   "source": [
    "# Recursion based example"
   ]
  },
  {
   "cell_type": "markdown",
   "id": "eae3853a-bf62-40c5-bc4e-436dd176ffbe",
   "metadata": {},
   "source": [
    "# factorial of a number"
   ]
  },
  {
   "cell_type": "code",
   "execution_count": null,
   "id": "d87e724d-b9b2-4742-91d8-a185a2df25ca",
   "metadata": {},
   "outputs": [],
   "source": [
    "def fact(n):\n",
    "    if n==0: # this is the base condition\n",
    "        return 1\n",
    "    else:\n",
    "        \n",
    "        return n*fact(n-1) # recursive call\n",
    "    "
   ]
  },
  {
   "cell_type": "code",
   "execution_count": null,
   "id": "2b61e92b-2748-436c-a124-40cf187414cd",
   "metadata": {},
   "outputs": [],
   "source": [
    "fact(5)"
   ]
  },
  {
   "cell_type": "markdown",
   "id": "8b68950a-5cc6-40b5-bc2f-6ccb8c01e19a",
   "metadata": {},
   "source": [
    "# Fibonaci series using recursion method"
   ]
  },
  {
   "cell_type": "code",
   "execution_count": 12,
   "id": "7ef3cec8-2c16-4d43-abb3-ad83affd4496",
   "metadata": {},
   "outputs": [],
   "source": [
    "def fib(n):\n",
    "    if n<=1:\n",
    "        return n\n",
    "    else:\n",
    "        return fib(n-2)+fib(n-1) # recursion term"
   ]
  },
  {
   "cell_type": "code",
   "execution_count": 13,
   "id": "158ac0ca-a154-43b7-a4d0-a8a057dd9511",
   "metadata": {},
   "outputs": [
    {
     "data": {
      "text/plain": [
       "5"
      ]
     },
     "execution_count": 13,
     "metadata": {},
     "output_type": "execute_result"
    }
   ],
   "source": [
    "fib(5)"
   ]
  },
  {
   "cell_type": "markdown",
   "id": "d8307c32-9e34-4ec5-bcd7-a7b16d1f1ff0",
   "metadata": {},
   "source": [
    "# Summation of all the digits of a number using recursion"
   ]
  },
  {
   "cell_type": "code",
   "execution_count": 17,
   "id": "ccf150ab-fcbc-41ad-bccf-909dcf2ace96",
   "metadata": {},
   "outputs": [
    {
     "data": {
      "text/plain": [
       "1"
      ]
     },
     "execution_count": 17,
     "metadata": {},
     "output_type": "execute_result"
    }
   ],
   "source": [
    "12//10 # // meaning is floor value"
   ]
  },
  {
   "cell_type": "code",
   "execution_count": 18,
   "id": "7ff183d5-25c8-420a-824b-71a1cb7258a4",
   "metadata": {},
   "outputs": [
    {
     "data": {
      "text/plain": [
       "12"
      ]
     },
     "execution_count": 18,
     "metadata": {},
     "output_type": "execute_result"
    }
   ],
   "source": [
    "123//10"
   ]
  },
  {
   "cell_type": "code",
   "execution_count": 19,
   "id": "9864caaa-3def-4acd-966f-17f8b417eadc",
   "metadata": {},
   "outputs": [
    {
     "data": {
      "text/plain": [
       "10"
      ]
     },
     "execution_count": 19,
     "metadata": {},
     "output_type": "execute_result"
    }
   ],
   "source": [
    "123//12"
   ]
  },
  {
   "cell_type": "code",
   "execution_count": 23,
   "id": "e9e3c029-6924-4cae-ad67-36ca3ee01c99",
   "metadata": {},
   "outputs": [],
   "source": [
    "def sum_digits(n):\n",
    "    if n<=9:\n",
    "        return n\n",
    "    else:\n",
    "        return n%10 + sum_digits(n//10)"
   ]
  },
  {
   "cell_type": "code",
   "execution_count": 24,
   "id": "cc969847-7dcc-43e4-ac69-bc513bc34bba",
   "metadata": {},
   "outputs": [
    {
     "data": {
      "text/plain": [
       "6"
      ]
     },
     "execution_count": 24,
     "metadata": {},
     "output_type": "execute_result"
    }
   ],
   "source": [
    "sum_digits(123)"
   ]
  },
  {
   "cell_type": "markdown",
   "id": "d4820264-edd0-47c1-8f66-0a87acf8ce83",
   "metadata": {},
   "source": [
    "# try to find out a maximum number or minimum number from a list "
   ]
  },
  {
   "cell_type": "code",
   "execution_count": 25,
   "id": "2db3e774-77d6-4453-a896-74145d06cbf7",
   "metadata": {},
   "outputs": [],
   "source": [
    "l=[3,4,5,6,76] "
   ]
  },
  {
   "cell_type": "code",
   "execution_count": 26,
   "id": "783c5955-a9ac-4a5e-b40e-a8eb0220cc71",
   "metadata": {},
   "outputs": [
    {
     "data": {
      "text/plain": [
       "76"
      ]
     },
     "execution_count": 26,
     "metadata": {},
     "output_type": "execute_result"
    }
   ],
   "source": [
    "max(l) # this is one of the way but i would like to use by recursive call"
   ]
  },
  {
   "cell_type": "code",
   "execution_count": 27,
   "id": "320582d8-78b1-4234-8bc4-4042a90b3f6b",
   "metadata": {},
   "outputs": [],
   "source": [
    "def max_find(l):\n",
    "    if len(l)==1: # base value concept\n",
    "        return l[0]\n",
    "    else:\n",
    "        return  max(l[0],max_find(l[1:]))"
   ]
  },
  {
   "cell_type": "code",
   "execution_count": 28,
   "id": "167e3d9b-8830-4991-8bea-045ba6049eee",
   "metadata": {},
   "outputs": [
    {
     "data": {
      "text/plain": [
       "75"
      ]
     },
     "execution_count": 28,
     "metadata": {},
     "output_type": "execute_result"
    }
   ],
   "source": [
    "max_find([4,5,6,7,7,42,4,5,56,65,75])"
   ]
  },
  {
   "cell_type": "code",
   "execution_count": 29,
   "id": "3568a1d3-1b27-48df-ba49-a97c12e86e6e",
   "metadata": {},
   "outputs": [
    {
     "data": {
      "text/plain": [
       "25"
      ]
     },
     "execution_count": 29,
     "metadata": {},
     "output_type": "execute_result"
    }
   ],
   "source": [
    "# inbuilt power function \n",
    "pow(5,2)\n",
    "# but now i am going to solve by recursion method"
   ]
  },
  {
   "cell_type": "markdown",
   "id": "d8aa458a-4509-49eb-aa1c-616ec17d4d42",
   "metadata": {},
   "source": [
    "# how to find the power of a number"
   ]
  },
  {
   "cell_type": "code",
   "execution_count": 34,
   "id": "c2bd0083-f1ab-4ee5-83c4-6a39d3904b82",
   "metadata": {},
   "outputs": [],
   "source": [
    "def power_fun(n,k):\n",
    "    if k==0: # base value\n",
    "        return 1\n",
    "    else:\n",
    "        return n*power_fun(n,k-1) # this is the recursion command"
   ]
  },
  {
   "cell_type": "code",
   "execution_count": 35,
   "id": "4ba54ac3-54d1-498b-aaa7-74ce7eede594",
   "metadata": {},
   "outputs": [
    {
     "data": {
      "text/plain": [
       "8"
      ]
     },
     "execution_count": 35,
     "metadata": {},
     "output_type": "execute_result"
    }
   ],
   "source": [
    "power_fun(2,3)"
   ]
  },
  {
   "cell_type": "code",
   "execution_count": 37,
   "id": "303d017d-820e-4809-b0f0-9505accf9794",
   "metadata": {},
   "outputs": [
    {
     "data": {
      "text/plain": [
       "16"
      ]
     },
     "execution_count": 37,
     "metadata": {},
     "output_type": "execute_result"
    }
   ],
   "source": [
    "power_fun(2,4)"
   ]
  },
  {
   "cell_type": "code",
   "execution_count": null,
   "id": "4cdb6828-197c-42f2-9391-12bb737bf882",
   "metadata": {},
   "outputs": [],
   "source": []
  }
 ],
 "metadata": {
  "kernelspec": {
   "display_name": "Python 3 (ipykernel)",
   "language": "python",
   "name": "python3"
  },
  "language_info": {
   "codemirror_mode": {
    "name": "ipython",
    "version": 3
   },
   "file_extension": ".py",
   "mimetype": "text/x-python",
   "name": "python",
   "nbconvert_exporter": "python",
   "pygments_lexer": "ipython3",
   "version": "3.10.8"
  }
 },
 "nbformat": 4,
 "nbformat_minor": 5
}
