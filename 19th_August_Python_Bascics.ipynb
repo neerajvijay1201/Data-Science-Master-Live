{
 "cells": [
  {
   "cell_type": "markdown",
   "id": "cda87dba",
   "metadata": {},
   "source": [
    "# 1.  PYTHON BASIC VARIABLES"
   ]
  },
  {
   "cell_type": "code",
   "execution_count": 1,
   "id": "e5895866",
   "metadata": {},
   "outputs": [
    {
     "data": {
      "text/plain": [
       "'1. Declare two variables, `x` and `y`, and assign them integer values.\\nSwap the values of these variables without using any temporary\\nvariable.'"
      ]
     },
     "execution_count": 1,
     "metadata": {},
     "output_type": "execute_result"
    }
   ],
   "source": [
    "'''1. Declare two variables, `x` and `y`, and assign them integer values.\n",
    "Swap the values of these variables without using any temporary\n",
    "variable.'''"
   ]
  },
  {
   "cell_type": "code",
   "execution_count": 2,
   "id": "bdfbb294",
   "metadata": {},
   "outputs": [
    {
     "name": "stdout",
     "output_type": "stream",
     "text": [
      "enter the value of x=5\n",
      "enter the value of y=2\n"
     ]
    }
   ],
   "source": [
    "x=int(input(\"enter the value of x=\"))\n",
    "y=int(input(\"enter the value of y=\"))"
   ]
  },
  {
   "cell_type": "code",
   "execution_count": 3,
   "id": "d767285d",
   "metadata": {},
   "outputs": [],
   "source": [
    "x=x+y\n",
    "y=x-y\n",
    "x=x-y"
   ]
  },
  {
   "cell_type": "code",
   "execution_count": 4,
   "id": "171bf4f8",
   "metadata": {},
   "outputs": [
    {
     "name": "stdout",
     "output_type": "stream",
     "text": [
      "2\n"
     ]
    }
   ],
   "source": [
    "print(x)"
   ]
  },
  {
   "cell_type": "code",
   "execution_count": 5,
   "id": "5e61215e",
   "metadata": {},
   "outputs": [
    {
     "name": "stdout",
     "output_type": "stream",
     "text": [
      "5\n"
     ]
    }
   ],
   "source": [
    "print(y)"
   ]
  },
  {
   "cell_type": "code",
   "execution_count": 6,
   "id": "2ad74313",
   "metadata": {},
   "outputs": [
    {
     "data": {
      "text/plain": [
       "'2. Create a program that calculates the area of a rectangle. Take the\\nlength and width as inputs from the user and store them in variables.\\nCalculate and display the area'"
      ]
     },
     "execution_count": 6,
     "metadata": {},
     "output_type": "execute_result"
    }
   ],
   "source": [
    "'''2. Create a program that calculates the area of a rectangle. Take the\n",
    "length and width as inputs from the user and store them in variables.\n",
    "Calculate and display the area'''"
   ]
  },
  {
   "cell_type": "code",
   "execution_count": 7,
   "id": "2c436880",
   "metadata": {},
   "outputs": [
    {
     "name": "stdout",
     "output_type": "stream",
     "text": [
      "enter the value of Lenght=2\n",
      "enter the value of width=6\n"
     ]
    }
   ],
   "source": [
    "lenght=float(input(\"enter the value of Lenght=\"))\n",
    "width=float(input(\"enter the value of width=\"))"
   ]
  },
  {
   "cell_type": "code",
   "execution_count": 8,
   "id": "195780ed",
   "metadata": {},
   "outputs": [],
   "source": [
    "area_of_rectangle=lenght*width"
   ]
  },
  {
   "cell_type": "code",
   "execution_count": 9,
   "id": "966fbcfd",
   "metadata": {},
   "outputs": [
    {
     "name": "stdout",
     "output_type": "stream",
     "text": [
      "12.0\n"
     ]
    }
   ],
   "source": [
    "print(area_of_rectangle)"
   ]
  },
  {
   "cell_type": "code",
   "execution_count": 10,
   "id": "cd11e4fe",
   "metadata": {},
   "outputs": [
    {
     "data": {
      "text/plain": [
       "'3. Write a Python program that converts temperature from Celsius to\\nFahrenheit. Take the temperature in Celsius as input, store it in a\\nvariable, convert it to Fahrenheit, and display the result.'"
      ]
     },
     "execution_count": 10,
     "metadata": {},
     "output_type": "execute_result"
    }
   ],
   "source": [
    "'''3. Write a Python program that converts temperature from Celsius to\n",
    "Fahrenheit. Take the temperature in Celsius as input, store it in a\n",
    "variable, convert it to Fahrenheit, and display the result.'''"
   ]
  },
  {
   "cell_type": "code",
   "execution_count": 11,
   "id": "e25fca6c",
   "metadata": {},
   "outputs": [
    {
     "name": "stdout",
     "output_type": "stream",
     "text": [
      "enter the value of temp. in deg_C is = 5445\n"
     ]
    }
   ],
   "source": [
    "deg_C=float(input(\"enter the value of temp. in deg_C is = \"))"
   ]
  },
  {
   "cell_type": "code",
   "execution_count": 12,
   "id": "d3c8cb55",
   "metadata": {},
   "outputs": [],
   "source": [
    "deg_F=(9/5)*deg_C+32"
   ]
  },
  {
   "cell_type": "code",
   "execution_count": 13,
   "id": "9504d942",
   "metadata": {},
   "outputs": [
    {
     "name": "stdout",
     "output_type": "stream",
     "text": [
      "9833.0\n"
     ]
    }
   ],
   "source": [
    "print(deg_F)"
   ]
  },
  {
   "cell_type": "markdown",
   "id": "9ef2b464",
   "metadata": {},
   "source": [
    "# 2. STRING BASED QUESTIONS"
   ]
  },
  {
   "cell_type": "code",
   "execution_count": 14,
   "id": "91ad1151",
   "metadata": {},
   "outputs": [
    {
     "data": {
      "text/plain": [
       "'1. Write a Python program that takes a string as input and prints the\\nlength of the string'"
      ]
     },
     "execution_count": 14,
     "metadata": {},
     "output_type": "execute_result"
    }
   ],
   "source": [
    "'''1. Write a Python program that takes a string as input and prints the\n",
    "length of the string'''"
   ]
  },
  {
   "cell_type": "code",
   "execution_count": 15,
   "id": "6e86e579",
   "metadata": {},
   "outputs": [
    {
     "name": "stdout",
     "output_type": "stream",
     "text": [
      "enter the name of string is=Neeraj vijay\n"
     ]
    }
   ],
   "source": [
    "str= input(\"enter the name of string is=\")"
   ]
  },
  {
   "cell_type": "code",
   "execution_count": 16,
   "id": "508c7767",
   "metadata": {},
   "outputs": [
    {
     "name": "stdout",
     "output_type": "stream",
     "text": [
      "12\n"
     ]
    }
   ],
   "source": [
    "print(len(str)) # It will also count the space between two words"
   ]
  },
  {
   "cell_type": "code",
   "execution_count": 17,
   "id": "26152b89",
   "metadata": {},
   "outputs": [
    {
     "data": {
      "text/plain": [
       "'2. Create a program that takes a sentence from the user and counts the\\nnumber of vowels (a, e, i, o, u) in the string.'"
      ]
     },
     "execution_count": 17,
     "metadata": {},
     "output_type": "execute_result"
    }
   ],
   "source": [
    "'''2. Create a program that takes a sentence from the user and counts the\n",
    "number of vowels (a, e, i, o, u) in the string.'''"
   ]
  },
  {
   "cell_type": "code",
   "execution_count": 19,
   "id": "ac66f92f",
   "metadata": {},
   "outputs": [
    {
     "name": "stdout",
     "output_type": "stream",
     "text": [
      "enter the sentence is   neeraj\n"
     ]
    }
   ],
   "source": [
    "sentence=input(\"enter the sentence is   \")"
   ]
  },
  {
   "cell_type": "code",
   "execution_count": null,
   "id": "63d649e4",
   "metadata": {},
   "outputs": [],
   "source": []
  }
 ],
 "metadata": {
  "kernelspec": {
   "display_name": "Python 3 (ipykernel)",
   "language": "python",
   "name": "python3"
  },
  "language_info": {
   "codemirror_mode": {
    "name": "ipython",
    "version": 3
   },
   "file_extension": ".py",
   "mimetype": "text/x-python",
   "name": "python",
   "nbconvert_exporter": "python",
   "pygments_lexer": "ipython3",
   "version": "3.11.1"
  }
 },
 "nbformat": 4,
 "nbformat_minor": 5
}
