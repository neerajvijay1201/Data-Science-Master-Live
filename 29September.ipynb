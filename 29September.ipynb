{
 "cells": [
  {
   "cell_type": "markdown",
   "id": "3dbf5a11-2c5c-4f12-834b-fcbaed1a243c",
   "metadata": {},
   "source": [
    "# Exception Handling and logging"
   ]
  },
  {
   "cell_type": "code",
   "execution_count": 1,
   "id": "3a581f37-4b2c-4170-a9df-ccecd25a0746",
   "metadata": {},
   "outputs": [],
   "source": [
    "a=10\n",
    "b=5"
   ]
  },
  {
   "cell_type": "code",
   "execution_count": 2,
   "id": "a21fc590-5137-43fb-905b-81896ab0473d",
   "metadata": {},
   "outputs": [
    {
     "data": {
      "text/plain": [
       "50"
      ]
     },
     "execution_count": 2,
     "metadata": {},
     "output_type": "execute_result"
    }
   ],
   "source": [
    "a*b"
   ]
  },
  {
   "cell_type": "code",
   "execution_count": 3,
   "id": "c7062ea8-9056-47c7-a7e4-b09d4b36d07a",
   "metadata": {},
   "outputs": [
    {
     "data": {
      "text/plain": [
       "2.0"
      ]
     },
     "execution_count": 3,
     "metadata": {},
     "output_type": "execute_result"
    }
   ],
   "source": [
    "a/b"
   ]
  },
  {
   "cell_type": "code",
   "execution_count": 4,
   "id": "96de4ac5-9a44-4a41-a598-a087a166a35f",
   "metadata": {},
   "outputs": [],
   "source": [
    "# but if b is zero\n",
    "a=10\n",
    "b=0"
   ]
  },
  {
   "cell_type": "code",
   "execution_count": 5,
   "id": "ac6b09af-2937-4dca-8629-eee211400dd1",
   "metadata": {},
   "outputs": [
    {
     "ename": "ZeroDivisionError",
     "evalue": "division by zero",
     "output_type": "error",
     "traceback": [
      "\u001b[0;31m---------------------------------------------------------------------------\u001b[0m",
      "\u001b[0;31mZeroDivisionError\u001b[0m                         Traceback (most recent call last)",
      "Cell \u001b[0;32mIn[5], line 1\u001b[0m\n\u001b[0;32m----> 1\u001b[0m \u001b[43ma\u001b[49m\u001b[38;5;241;43m/\u001b[39;49m\u001b[43mb\u001b[49m\n",
      "\u001b[0;31mZeroDivisionError\u001b[0m: division by zero"
     ]
    }
   ],
   "source": [
    "a/b"
   ]
  },
  {
   "cell_type": "code",
   "execution_count": 6,
   "id": "39ebd93f-ad2e-4810-8549-5e3952268832",
   "metadata": {},
   "outputs": [
    {
     "name": "stdin",
     "output_type": "stream",
     "text": [
      "enter a value of a : 6\n",
      "enter a value of b : 0\n"
     ]
    }
   ],
   "source": [
    "a=int(input(\"enter a value of a :\"))\n",
    "b=int(input(\"enter a value of b :\"))"
   ]
  },
  {
   "cell_type": "code",
   "execution_count": 7,
   "id": "29671e78-65b5-41c5-a7ad-8fc63e582a28",
   "metadata": {},
   "outputs": [
    {
     "data": {
      "text/plain": [
       "0"
      ]
     },
     "execution_count": 7,
     "metadata": {},
     "output_type": "execute_result"
    }
   ],
   "source": [
    "a*b"
   ]
  },
  {
   "cell_type": "code",
   "execution_count": 10,
   "id": "fa4132ec-39f1-4741-8370-3e3b1cab9749",
   "metadata": {},
   "outputs": [
    {
     "ename": "ZeroDivisionError",
     "evalue": "division by zero",
     "output_type": "error",
     "traceback": [
      "\u001b[0;31m---------------------------------------------------------------------------\u001b[0m",
      "\u001b[0;31mZeroDivisionError\u001b[0m                         Traceback (most recent call last)",
      "Cell \u001b[0;32mIn[10], line 1\u001b[0m\n\u001b[0;32m----> 1\u001b[0m \u001b[43ma\u001b[49m\u001b[38;5;241;43m/\u001b[39;49m\u001b[43mb\u001b[49m\n\u001b[1;32m      2\u001b[0m \u001b[38;5;28mprint\u001b[39m(\u001b[38;5;124m\"\u001b[39m\u001b[38;5;124mprint something\u001b[39m\u001b[38;5;124m\"\u001b[39m) \u001b[38;5;66;03m# this will not execute bcz python read in sequencial manner\u001b[39;00m\n",
      "\u001b[0;31mZeroDivisionError\u001b[0m: division by zero"
     ]
    }
   ],
   "source": [
    "a/b\n",
    "print(\"print something\") # this will not execute bcz python read in sequencial manner"
   ]
  },
  {
   "cell_type": "code",
   "execution_count": 14,
   "id": "c8eecf4c-72c5-43ca-82ae-30035a90554e",
   "metadata": {},
   "outputs": [],
   "source": [
    "l=[4,5,6,7,8,9,0]\n",
    "# extract even number\n",
    "l1=[]\n",
    "def even_parser(l):\n",
    "    for i in l:\n",
    "        if i%2==0:\n",
    "            l1.append(i)\n",
    "    return l1       \n",
    "    "
   ]
  },
  {
   "cell_type": "code",
   "execution_count": 15,
   "id": "da119685-c3d7-4c77-b549-a7985fd1b9c1",
   "metadata": {},
   "outputs": [
    {
     "data": {
      "text/plain": [
       "[4, 6, 8, 0]"
      ]
     },
     "execution_count": 15,
     "metadata": {},
     "output_type": "execute_result"
    }
   ],
   "source": [
    "even_parser(l)"
   ]
  },
  {
   "cell_type": "code",
   "execution_count": 16,
   "id": "8fee48d4-cdad-4f38-9b71-828ff339d920",
   "metadata": {},
   "outputs": [
    {
     "ename": "TypeError",
     "evalue": "'int' object is not iterable",
     "output_type": "error",
     "traceback": [
      "\u001b[0;31m---------------------------------------------------------------------------\u001b[0m",
      "\u001b[0;31mTypeError\u001b[0m                                 Traceback (most recent call last)",
      "Cell \u001b[0;32mIn[16], line 1\u001b[0m\n\u001b[0;32m----> 1\u001b[0m \u001b[43meven_parser\u001b[49m\u001b[43m(\u001b[49m\u001b[38;5;241;43m5\u001b[39;49m\u001b[43m)\u001b[49m\n",
      "Cell \u001b[0;32mIn[14], line 5\u001b[0m, in \u001b[0;36meven_parser\u001b[0;34m(l)\u001b[0m\n\u001b[1;32m      4\u001b[0m \u001b[38;5;28;01mdef\u001b[39;00m \u001b[38;5;21meven_parser\u001b[39m(l):\n\u001b[0;32m----> 5\u001b[0m     \u001b[38;5;28;01mfor\u001b[39;00m i \u001b[38;5;129;01min\u001b[39;00m l:\n\u001b[1;32m      6\u001b[0m         \u001b[38;5;28;01mif\u001b[39;00m i\u001b[38;5;241m%\u001b[39m\u001b[38;5;241m2\u001b[39m\u001b[38;5;241m==\u001b[39m\u001b[38;5;241m0\u001b[39m:\n\u001b[1;32m      7\u001b[0m             l1\u001b[38;5;241m.\u001b[39mappend(i)\n",
      "\u001b[0;31mTypeError\u001b[0m: 'int' object is not iterable"
     ]
    }
   ],
   "source": [
    "even_parser(5)"
   ]
  },
  {
   "cell_type": "code",
   "execution_count": 17,
   "id": "ef436064-5b35-4940-b255-71053478346a",
   "metadata": {},
   "outputs": [
    {
     "ename": "TypeError",
     "evalue": "not all arguments converted during string formatting",
     "output_type": "error",
     "traceback": [
      "\u001b[0;31m---------------------------------------------------------------------------\u001b[0m",
      "\u001b[0;31mTypeError\u001b[0m                                 Traceback (most recent call last)",
      "Cell \u001b[0;32mIn[17], line 1\u001b[0m\n\u001b[0;32m----> 1\u001b[0m \u001b[43meven_parser\u001b[49m\u001b[43m(\u001b[49m\u001b[38;5;124;43m\"\u001b[39;49m\u001b[38;5;124;43mneeraj\u001b[39;49m\u001b[38;5;124;43m\"\u001b[39;49m\u001b[43m)\u001b[49m\n",
      "Cell \u001b[0;32mIn[14], line 6\u001b[0m, in \u001b[0;36meven_parser\u001b[0;34m(l)\u001b[0m\n\u001b[1;32m      4\u001b[0m \u001b[38;5;28;01mdef\u001b[39;00m \u001b[38;5;21meven_parser\u001b[39m(l):\n\u001b[1;32m      5\u001b[0m     \u001b[38;5;28;01mfor\u001b[39;00m i \u001b[38;5;129;01min\u001b[39;00m l:\n\u001b[0;32m----> 6\u001b[0m         \u001b[38;5;28;01mif\u001b[39;00m \u001b[43mi\u001b[49m\u001b[38;5;241;43m%\u001b[39;49m\u001b[38;5;241;43m2\u001b[39;49m\u001b[38;5;241m==\u001b[39m\u001b[38;5;241m0\u001b[39m:\n\u001b[1;32m      7\u001b[0m             l1\u001b[38;5;241m.\u001b[39mappend(i)\n\u001b[1;32m      8\u001b[0m     \u001b[38;5;28;01mreturn\u001b[39;00m l1\n",
      "\u001b[0;31mTypeError\u001b[0m: not all arguments converted during string formatting"
     ]
    }
   ],
   "source": [
    "even_parser(\"neeraj\")"
   ]
  },
  {
   "cell_type": "code",
   "execution_count": 18,
   "id": "a5f258c3-e3be-4975-98c4-e8c141d52e7a",
   "metadata": {},
   "outputs": [
    {
     "name": "stdout",
     "output_type": "stream",
     "text": [
      "neeraj vijay\n"
     ]
    }
   ],
   "source": [
    "even_parser(l)\n",
    "print(\"neeraj vijay\")"
   ]
  },
  {
   "cell_type": "code",
   "execution_count": 19,
   "id": "59fa59bc-2b41-46f4-a549-3269b28a17ab",
   "metadata": {},
   "outputs": [
    {
     "ename": "TypeError",
     "evalue": "not all arguments converted during string formatting",
     "output_type": "error",
     "traceback": [
      "\u001b[0;31m---------------------------------------------------------------------------\u001b[0m",
      "\u001b[0;31mTypeError\u001b[0m                                 Traceback (most recent call last)",
      "Cell \u001b[0;32mIn[19], line 1\u001b[0m\n\u001b[0;32m----> 1\u001b[0m \u001b[43meven_parser\u001b[49m\u001b[43m(\u001b[49m\u001b[38;5;124;43m\"\u001b[39;49m\u001b[38;5;124;43miitbombay\u001b[39;49m\u001b[38;5;124;43m\"\u001b[39;49m\u001b[43m)\u001b[49m\n\u001b[1;32m      2\u001b[0m \u001b[38;5;28mprint\u001b[39m(\u001b[38;5;124m\"\u001b[39m\u001b[38;5;124mneeraj vijay\u001b[39m\u001b[38;5;124m\"\u001b[39m)\n",
      "Cell \u001b[0;32mIn[14], line 6\u001b[0m, in \u001b[0;36meven_parser\u001b[0;34m(l)\u001b[0m\n\u001b[1;32m      4\u001b[0m \u001b[38;5;28;01mdef\u001b[39;00m \u001b[38;5;21meven_parser\u001b[39m(l):\n\u001b[1;32m      5\u001b[0m     \u001b[38;5;28;01mfor\u001b[39;00m i \u001b[38;5;129;01min\u001b[39;00m l:\n\u001b[0;32m----> 6\u001b[0m         \u001b[38;5;28;01mif\u001b[39;00m \u001b[43mi\u001b[49m\u001b[38;5;241;43m%\u001b[39;49m\u001b[38;5;241;43m2\u001b[39;49m\u001b[38;5;241m==\u001b[39m\u001b[38;5;241m0\u001b[39m:\n\u001b[1;32m      7\u001b[0m             l1\u001b[38;5;241m.\u001b[39mappend(i)\n\u001b[1;32m      8\u001b[0m     \u001b[38;5;28;01mreturn\u001b[39;00m l1\n",
      "\u001b[0;31mTypeError\u001b[0m: not all arguments converted during string formatting"
     ]
    }
   ],
   "source": [
    "even_parser(\"iitbombay\")\n",
    "print(\"neeraj vijay\")"
   ]
  },
  {
   "cell_type": "code",
   "execution_count": 20,
   "id": "bc755679-254c-4972-83d2-37d0a37f0891",
   "metadata": {},
   "outputs": [
    {
     "ename": "SyntaxError",
     "evalue": "incomplete input (3382905744.py, line 6)",
     "output_type": "error",
     "traceback": [
      "\u001b[0;36m  Cell \u001b[0;32mIn[20], line 6\u001b[0;36m\u001b[0m\n\u001b[0;31m    \u001b[0m\n\u001b[0m    ^\u001b[0m\n\u001b[0;31mSyntaxError\u001b[0m\u001b[0;31m:\u001b[0m incomplete input\n"
     ]
    }
   ],
   "source": [
    "try:\n",
    "    a=int(input(\"enter a value of a :\"))\n",
    "    b=int(input(\"enter a value of b :\"))\n",
    "    c=a/b\n",
    "    print(c)\n",
    "    "
   ]
  },
  {
   "cell_type": "code",
   "execution_count": 21,
   "id": "e93e0b3d-8937-43f4-b0d5-1ccb09f0de0a",
   "metadata": {},
   "outputs": [
    {
     "name": "stdin",
     "output_type": "stream",
     "text": [
      "enter a value of a : 1\n",
      "enter a value of b : 2\n"
     ]
    },
    {
     "name": "stdout",
     "output_type": "stream",
     "text": [
      "0.5\n"
     ]
    }
   ],
   "source": [
    "try:\n",
    "    a=int(input(\"enter a value of a :\"))\n",
    "    b=int(input(\"enter a value of b :\"))\n",
    "    c=a/b\n",
    "    print(c)\n",
    "except:\n",
    "    pass"
   ]
  },
  {
   "cell_type": "code",
   "execution_count": 25,
   "id": "26a4b831-9e4e-4d58-acaf-0f55816bd7a8",
   "metadata": {},
   "outputs": [
    {
     "name": "stdin",
     "output_type": "stream",
     "text": [
      "enter a value of a : 1\n",
      "enter a value of b : 0\n"
     ]
    }
   ],
   "source": [
    "try:\n",
    "    a=int(input(\"enter a value of a :\"))\n",
    "    b=int(input(\"enter a value of b :\"))\n",
    "    c=a/b\n",
    "    print(c)\n",
    "except:\n",
    "    pass"
   ]
  },
  {
   "cell_type": "code",
   "execution_count": 26,
   "id": "bcde90bc-235d-44e5-92aa-fe6791817407",
   "metadata": {},
   "outputs": [
    {
     "name": "stdin",
     "output_type": "stream",
     "text": [
      "enter a value of a : 1\n",
      "enter a value of b : 0\n"
     ]
    },
    {
     "name": "stdout",
     "output_type": "stream",
     "text": [
      "print something\n"
     ]
    }
   ],
   "source": [
    "try:\n",
    "    a=int(input(\"enter a value of a :\"))\n",
    "    b=int(input(\"enter a value of b :\"))\n",
    "    c=a/b\n",
    "    print(c)\n",
    "except:\n",
    "    pass\n",
    "print(\"print something\")"
   ]
  },
  {
   "cell_type": "code",
   "execution_count": 27,
   "id": "4d13edd4-f472-45a4-9a63-4da54c8b679e",
   "metadata": {},
   "outputs": [
    {
     "name": "stdin",
     "output_type": "stream",
     "text": [
      "enter a value of a : neeraj\n"
     ]
    }
   ],
   "source": [
    "try:\n",
    "    a=int(input(\"enter a value of a :\"))\n",
    "    b=int(input(\"enter a value of b :\"))\n",
    "    c=a/b\n",
    "    print(c)\n",
    "except:\n",
    "    pass"
   ]
  },
  {
   "cell_type": "code",
   "execution_count": 34,
   "id": "0c56b017-16d6-4c87-9e09-dacfc4e0a754",
   "metadata": {},
   "outputs": [],
   "source": [
    "l=[4,5,6,7,8,9,0]\n",
    "# extract even number\n",
    "l1=[]\n",
    "def even_parser(l):\n",
    "    try:\n",
    "        for i in l:\n",
    "            if i%2==0:\n",
    "                l1.append(i)\n",
    "        return l1  \n",
    "    except:\n",
    "        pass\n",
    "    "
   ]
  },
  {
   "cell_type": "code",
   "execution_count": 35,
   "id": "c8cd55a4-4deb-4e14-b747-21679007d8b3",
   "metadata": {},
   "outputs": [
    {
     "name": "stdout",
     "output_type": "stream",
     "text": [
      "neeraj\n"
     ]
    }
   ],
   "source": [
    "even_parser(5)\n",
    "print(\"neeraj\")"
   ]
  },
  {
   "cell_type": "code",
   "execution_count": 38,
   "id": "9a172a2f-02c3-4a65-9c09-b051de347812",
   "metadata": {},
   "outputs": [
    {
     "name": "stdout",
     "output_type": "stream",
     "text": [
      "division by zero\n"
     ]
    }
   ],
   "source": [
    "try:\n",
    "    c=6/0\n",
    "except Exception as e:\n",
    "    print(e)\n"
   ]
  },
  {
   "cell_type": "code",
   "execution_count": 41,
   "id": "749a8675-c65e-4344-aa07-75893685d13e",
   "metadata": {},
   "outputs": [
    {
     "name": "stdin",
     "output_type": "stream",
     "text": [
      " j\n"
     ]
    },
    {
     "name": "stdout",
     "output_type": "stream",
     "text": [
      "invalid literal for int() with base 10: 'j'\n"
     ]
    }
   ],
   "source": [
    "try:\n",
    "    a=int(input())\n",
    "    b=int(input())\n",
    "    c=a/b\n",
    "except Exception as e:\n",
    "    print(e)\n"
   ]
  },
  {
   "cell_type": "code",
   "execution_count": 42,
   "id": "c700048d-7ba2-41ab-993f-35d7a1b292e1",
   "metadata": {},
   "outputs": [
    {
     "name": "stdin",
     "output_type": "stream",
     "text": [
      " 3\n",
      " 0\n"
     ]
    },
    {
     "name": "stdout",
     "output_type": "stream",
     "text": [
      "division by zero\n"
     ]
    }
   ],
   "source": [
    "try:\n",
    "    a=int(input())\n",
    "    b=int(input())\n",
    "    c=a/b\n",
    "except Exception as e:\n",
    "    print(e)\n"
   ]
  },
  {
   "cell_type": "code",
   "execution_count": 46,
   "id": "5d1d7df4-5187-4835-a4df-b1145651832c",
   "metadata": {},
   "outputs": [
    {
     "name": "stdin",
     "output_type": "stream",
     "text": [
      " neeraj\n"
     ]
    },
    {
     "name": "stdout",
     "output_type": "stream",
     "text": [
      "invalid literal for int() with base 10: 'neeraj'\n"
     ]
    }
   ],
   "source": [
    "try:\n",
    "    a=int(input())\n",
    "    b=int(input())\n",
    "    c=a/b\n",
    "except TypeError as t:\n",
    "    print(t)\n",
    "except ZeroDivisionError as z:\n",
    "    print(z)\n",
    "except ValueError as v:\n",
    "    print(v)"
   ]
  },
  {
   "cell_type": "code",
   "execution_count": 50,
   "id": "5756972e-023a-4f91-a705-5862b0570069",
   "metadata": {},
   "outputs": [
    {
     "name": "stdout",
     "output_type": "stream",
     "text": [
      "division by zero\n",
      "invalid literal for int() with base 10: 'neeraj'\n"
     ]
    }
   ],
   "source": [
    "try:\n",
    "    x=5/0\n",
    "except ZeroDivisionError as z:\n",
    "    print(z)\n",
    "    try:                    # try can be write anywhere\n",
    "        y=int(\"neeraj\")\n",
    "    except ValueError as v:\n",
    "        print(v)"
   ]
  },
  {
   "cell_type": "code",
   "execution_count": 51,
   "id": "39876769-19e9-4c8e-9db2-19f0a3169525",
   "metadata": {},
   "outputs": [
    {
     "name": "stdout",
     "output_type": "stream",
     "text": [
      "division by zero\n"
     ]
    }
   ],
   "source": [
    "try:\n",
    "    x=5/0\n",
    "except ZeroDivisionError as z:\n",
    "    print(z)\n",
    "else:\n",
    "    print(\"this will execute itself once try will execute without and error\")"
   ]
  },
  {
   "cell_type": "code",
   "execution_count": 52,
   "id": "3afbb798-0a86-4cb0-80f3-714d907a80d4",
   "metadata": {},
   "outputs": [
    {
     "name": "stdout",
     "output_type": "stream",
     "text": [
      "this will execute itself once try will execute without and error\n"
     ]
    }
   ],
   "source": [
    "try:\n",
    "    x=5/1\n",
    "except ZeroDivisionError as z:\n",
    "    print(z)\n",
    "else:\n",
    "    print(\"this will execute itself once try will execute without and error\")"
   ]
  },
  {
   "cell_type": "code",
   "execution_count": 55,
   "id": "a6f5e155-f119-4eb8-98d0-0e81c42f1653",
   "metadata": {},
   "outputs": [
    {
     "name": "stdout",
     "output_type": "stream",
     "text": [
      "division by zero\n",
      "This will be executed always\n"
     ]
    }
   ],
   "source": [
    "try:\n",
    "    x=5/0\n",
    "except ZeroDivisionError as z:\n",
    "    print(z)\n",
    "else:\n",
    "    print(\"this will execute itself once try will execute without and error\")\n",
    "finally:\n",
    "    print(\"This will be executed always\")"
   ]
  },
  {
   "cell_type": "code",
   "execution_count": 60,
   "id": "9b328673-59be-4dd9-95fb-307b96c1c652",
   "metadata": {},
   "outputs": [],
   "source": [
    "d={\"name\":\"neeraj\",\"mob no\":98655,\"email\":\"neeraj@562gmail.com\"}"
   ]
  },
  {
   "cell_type": "code",
   "execution_count": 61,
   "id": "18be1259-caba-4a8f-bdea-e8f092fcfe01",
   "metadata": {},
   "outputs": [
    {
     "data": {
      "text/plain": [
       "{'name': 'neeraj', 'mob no': 98655, 'email': 'neeraj@562gmail.com'}"
      ]
     },
     "execution_count": 61,
     "metadata": {},
     "output_type": "execute_result"
    }
   ],
   "source": [
    "d"
   ]
  },
  {
   "cell_type": "code",
   "execution_count": 62,
   "id": "5848735e-e95c-4d65-9eb9-af440dc3b7d9",
   "metadata": {},
   "outputs": [
    {
     "ename": "KeyError",
     "evalue": "'courses'",
     "output_type": "error",
     "traceback": [
      "\u001b[0;31m---------------------------------------------------------------------------\u001b[0m",
      "\u001b[0;31mKeyError\u001b[0m                                  Traceback (most recent call last)",
      "Cell \u001b[0;32mIn[62], line 2\u001b[0m\n\u001b[1;32m      1\u001b[0m d\u001b[38;5;241m=\u001b[39m{\u001b[38;5;124m\"\u001b[39m\u001b[38;5;124mname\u001b[39m\u001b[38;5;124m\"\u001b[39m:\u001b[38;5;124m\"\u001b[39m\u001b[38;5;124mneeraj\u001b[39m\u001b[38;5;124m\"\u001b[39m,\u001b[38;5;124m\"\u001b[39m\u001b[38;5;124mmob no\u001b[39m\u001b[38;5;124m\"\u001b[39m:\u001b[38;5;241m98655\u001b[39m,\u001b[38;5;124m\"\u001b[39m\u001b[38;5;124memail\u001b[39m\u001b[38;5;124m\"\u001b[39m:\u001b[38;5;124m\"\u001b[39m\u001b[38;5;124mneeraj@562gmail.com\u001b[39m\u001b[38;5;124m\"\u001b[39m}\n\u001b[0;32m----> 2\u001b[0m \u001b[43md\u001b[49m\u001b[43m[\u001b[49m\u001b[38;5;124;43m\"\u001b[39;49m\u001b[38;5;124;43mcourses\u001b[39;49m\u001b[38;5;124;43m\"\u001b[39;49m\u001b[43m]\u001b[49m\n",
      "\u001b[0;31mKeyError\u001b[0m: 'courses'"
     ]
    }
   ],
   "source": [
    "d={\"name\":\"neeraj\",\"mob no\":98655,\"email\":\"neeraj@562gmail.com\"}\n",
    "d[\"courses\"]"
   ]
  },
  {
   "cell_type": "code",
   "execution_count": 64,
   "id": "77754f99-f329-4f76-b708-957951a7f9ba",
   "metadata": {},
   "outputs": [
    {
     "name": "stdout",
     "output_type": "stream",
     "text": [
      "This is a keyerror\n"
     ]
    }
   ],
   "source": [
    "try:\n",
    "    d={\"name\":\"neeraj\",\"mob no\":98655,\"email\":\"neeraj@562gmail.com\"}\n",
    "    d[\"courses\"]\n",
    "except Exception:\n",
    "    print(\"This is a keyerror\")\n",
    "    "
   ]
  },
  {
   "cell_type": "code",
   "execution_count": 65,
   "id": "406fbb10-d711-4609-b2fe-13cbbd35621c",
   "metadata": {},
   "outputs": [
    {
     "ename": "IndexError",
     "evalue": "list index out of range",
     "output_type": "error",
     "traceback": [
      "\u001b[0;31m---------------------------------------------------------------------------\u001b[0m",
      "\u001b[0;31mIndexError\u001b[0m                                Traceback (most recent call last)",
      "Cell \u001b[0;32mIn[65], line 2\u001b[0m\n\u001b[1;32m      1\u001b[0m l\u001b[38;5;241m=\u001b[39m[\u001b[38;5;241m1\u001b[39m,\u001b[38;5;241m2\u001b[39m,\u001b[38;5;241m3\u001b[39m,\u001b[38;5;241m4\u001b[39m,\u001b[38;5;241m5\u001b[39m,\u001b[38;5;241m6\u001b[39m,\u001b[38;5;241m7\u001b[39m,\u001b[38;5;241m10\u001b[39m]\n\u001b[0;32m----> 2\u001b[0m \u001b[43ml\u001b[49m\u001b[43m[\u001b[49m\u001b[38;5;241;43m10\u001b[39;49m\u001b[43m]\u001b[49m\n",
      "\u001b[0;31mIndexError\u001b[0m: list index out of range"
     ]
    }
   ],
   "source": [
    "l=[1,2,3,4,5,6,7,10]\n",
    "l[10] # 10th index it will give an error"
   ]
  },
  {
   "cell_type": "code",
   "execution_count": 66,
   "id": "4c15b36e-b21a-4c99-9935-488202f111e4",
   "metadata": {},
   "outputs": [
    {
     "name": "stdout",
     "output_type": "stream",
     "text": [
      "list index out of range\n"
     ]
    }
   ],
   "source": [
    "try:\n",
    "    l=[1,2,3,4,5,6,7,10]\n",
    "    l[10]\n",
    "except Exception as e:\n",
    "    print(e)"
   ]
  },
  {
   "cell_type": "code",
   "execution_count": 67,
   "id": "2d1ee65d-b4e1-4cd8-b0db-cbbb9858b0a1",
   "metadata": {},
   "outputs": [
    {
     "ename": "ValueError",
     "evalue": "invalid literal for int() with base 10: 'neeraj'",
     "output_type": "error",
     "traceback": [
      "\u001b[0;31m---------------------------------------------------------------------------\u001b[0m",
      "\u001b[0;31mValueError\u001b[0m                                Traceback (most recent call last)",
      "Cell \u001b[0;32mIn[67], line 2\u001b[0m\n\u001b[1;32m      1\u001b[0m a\u001b[38;5;241m=\u001b[39m\u001b[38;5;124m\"\u001b[39m\u001b[38;5;124mneeraj\u001b[39m\u001b[38;5;124m\"\u001b[39m\n\u001b[0;32m----> 2\u001b[0m \u001b[38;5;28;43mint\u001b[39;49m\u001b[43m(\u001b[49m\u001b[43ma\u001b[49m\u001b[43m)\u001b[49m\n",
      "\u001b[0;31mValueError\u001b[0m: invalid literal for int() with base 10: 'neeraj'"
     ]
    }
   ],
   "source": [
    "a=\"neeraj\"\n",
    "int(a)"
   ]
  },
  {
   "cell_type": "code",
   "execution_count": 68,
   "id": "5d2b7005-f2e4-45fc-a742-b67747955cf6",
   "metadata": {},
   "outputs": [
    {
     "name": "stdout",
     "output_type": "stream",
     "text": [
      "invalid literal for int() with base 10: 'neeraj'\n"
     ]
    }
   ],
   "source": [
    "try:\n",
    "    a=\"neeraj\"\n",
    "    int(a)\n",
    "except Exception as e:\n",
    "    print(e)"
   ]
  },
  {
   "cell_type": "code",
   "execution_count": 69,
   "id": "91e71239-f796-41d4-b5ba-d99757a8762f",
   "metadata": {},
   "outputs": [],
   "source": [
    "# i am trying to open a file  and reading inside whatever is there in in file "
   ]
  },
  {
   "cell_type": "code",
   "execution_count": 70,
   "id": "22566419-fbdb-43ac-bcee-db2ee4f09067",
   "metadata": {},
   "outputs": [
    {
     "data": {
      "text/plain": [
       "'Explain the concept of recursion in Python. How does it differ from iteration?\\n2. Write a Python program to calculate the factorial of a number using recursion.\\n3. Create a recursive Python function to find the nth Fibonacci number.\\n4. Write a recursive Python function to calculate the sum of all elements in a list.\\n5. How can you prevent a recursive function from running indefinitely, causing a stack overflow\\nerror?\\n6. Create a recursive Python function to find the greatest common divisor (GCD) of two numbers\\nusing the Euclidean algorithm.\\n7. Write a recursive Python function to reverse a string.\\n8. Create a recursive Python function to calculate the power of a number (x^n).\\n9. Write a recursive Python function to find all permutations of a given string.\\n10. Write a recursive Python function to check if a string is a palindrome.\\n11. Create a recursive Python function to generate all possible combinations of a list of elements.\\nBasics of Functions:\\n1. What is a function in Python, and why is it used?\\n2. How do you define a function in Python? Provide an example.\\n3. Explain the difference between a function definition and a function call.\\n4. Write a Python program that defines a function to calculate the sum of two numbers and then\\ncalls the function.\\n5. What is a function signature, and what information does it typically include?\\n6. Create a Python function that takes two arguments and returns their product.\\nFunction Parameters and Arguments:\\n1. Explain'"
      ]
     },
     "execution_count": 70,
     "metadata": {},
     "output_type": "execute_result"
    }
   ],
   "source": [
    "file_name=\"pw.txt\"\n",
    "f=open(file_name)\n",
    "f.read()"
   ]
  },
  {
   "cell_type": "code",
   "execution_count": 71,
   "id": "f53aed07-fa72-414b-b006-ba0725e84251",
   "metadata": {},
   "outputs": [
    {
     "ename": "FileNotFoundError",
     "evalue": "[Errno 2] No such file or directory: 'test.txt'",
     "output_type": "error",
     "traceback": [
      "\u001b[0;31m---------------------------------------------------------------------------\u001b[0m",
      "\u001b[0;31mFileNotFoundError\u001b[0m                         Traceback (most recent call last)",
      "Cell \u001b[0;32mIn[71], line 2\u001b[0m\n\u001b[1;32m      1\u001b[0m file_name\u001b[38;5;241m=\u001b[39m\u001b[38;5;124m\"\u001b[39m\u001b[38;5;124mtest.txt\u001b[39m\u001b[38;5;124m\"\u001b[39m\n\u001b[0;32m----> 2\u001b[0m f\u001b[38;5;241m=\u001b[39m\u001b[38;5;28;43mopen\u001b[39;49m\u001b[43m(\u001b[49m\u001b[43mfile_name\u001b[49m\u001b[43m)\u001b[49m\n\u001b[1;32m      3\u001b[0m f\u001b[38;5;241m.\u001b[39mread()\n",
      "File \u001b[0;32m/opt/conda/lib/python3.10/site-packages/IPython/core/interactiveshell.py:282\u001b[0m, in \u001b[0;36m_modified_open\u001b[0;34m(file, *args, **kwargs)\u001b[0m\n\u001b[1;32m    275\u001b[0m \u001b[38;5;28;01mif\u001b[39;00m file \u001b[38;5;129;01min\u001b[39;00m {\u001b[38;5;241m0\u001b[39m, \u001b[38;5;241m1\u001b[39m, \u001b[38;5;241m2\u001b[39m}:\n\u001b[1;32m    276\u001b[0m     \u001b[38;5;28;01mraise\u001b[39;00m \u001b[38;5;167;01mValueError\u001b[39;00m(\n\u001b[1;32m    277\u001b[0m         \u001b[38;5;124mf\u001b[39m\u001b[38;5;124m\"\u001b[39m\u001b[38;5;124mIPython won\u001b[39m\u001b[38;5;124m'\u001b[39m\u001b[38;5;124mt let you open fd=\u001b[39m\u001b[38;5;132;01m{\u001b[39;00mfile\u001b[38;5;132;01m}\u001b[39;00m\u001b[38;5;124m by default \u001b[39m\u001b[38;5;124m\"\u001b[39m\n\u001b[1;32m    278\u001b[0m         \u001b[38;5;124m\"\u001b[39m\u001b[38;5;124mas it is likely to crash IPython. If you know what you are doing, \u001b[39m\u001b[38;5;124m\"\u001b[39m\n\u001b[1;32m    279\u001b[0m         \u001b[38;5;124m\"\u001b[39m\u001b[38;5;124myou can use builtins\u001b[39m\u001b[38;5;124m'\u001b[39m\u001b[38;5;124m open.\u001b[39m\u001b[38;5;124m\"\u001b[39m\n\u001b[1;32m    280\u001b[0m     )\n\u001b[0;32m--> 282\u001b[0m \u001b[38;5;28;01mreturn\u001b[39;00m \u001b[43mio_open\u001b[49m\u001b[43m(\u001b[49m\u001b[43mfile\u001b[49m\u001b[43m,\u001b[49m\u001b[43m \u001b[49m\u001b[38;5;241;43m*\u001b[39;49m\u001b[43margs\u001b[49m\u001b[43m,\u001b[49m\u001b[43m \u001b[49m\u001b[38;5;241;43m*\u001b[39;49m\u001b[38;5;241;43m*\u001b[39;49m\u001b[43mkwargs\u001b[49m\u001b[43m)\u001b[49m\n",
      "\u001b[0;31mFileNotFoundError\u001b[0m: [Errno 2] No such file or directory: 'test.txt'"
     ]
    }
   ],
   "source": [
    "file_name=\"test.txt\"\n",
    "f=open(file_name)\n",
    "f.read()"
   ]
  },
  {
   "cell_type": "code",
   "execution_count": 72,
   "id": "73d20637-ee21-4535-a004-5a96cc2ddc6d",
   "metadata": {},
   "outputs": [
    {
     "name": "stdout",
     "output_type": "stream",
     "text": [
      "[Errno 2] No such file or directory: 'test.txt'\n"
     ]
    }
   ],
   "source": [
    "try:\n",
    "    file_name=\"test.txt\"\n",
    "    f=open(file_name)\n",
    "    f.read()\n",
    "except Exception as e:\n",
    "    print(e)"
   ]
  },
  {
   "cell_type": "code",
   "execution_count": 73,
   "id": "816a8df3-fb1e-4768-97b3-d78b8434d60b",
   "metadata": {},
   "outputs": [
    {
     "name": "stdout",
     "output_type": "stream",
     "text": [
      " 17_sep_assign.ipynb               'Assignment 1.ipynb'        Live.ipynb\n",
      " 19th_August_Python_Bascics.ipynb  'Control Statement.ipynb'   pw.txt\n",
      " 23_September.ipynb                 DAY1.ipynb                 README.md\n",
      " 24September.ipynb                  For_loop.ipynb             Untitled1.ipynb\n",
      " 29September.ipynb                  Function.ipynb             Untitled.ipynb\n"
     ]
    }
   ],
   "source": [
    "ls"
   ]
  },
  {
   "cell_type": "code",
   "execution_count": 75,
   "id": "c9a9b2c0-1ed4-48c3-84ec-e0d0e4de2048",
   "metadata": {},
   "outputs": [
    {
     "name": "stdout",
     "output_type": "stream",
     "text": [
      "total 372\n",
      "-rw-r--r-- 1 jovyan users 95476 Sep 29 13:26  17_sep_assign.ipynb\n",
      "-rw-r--r-- 1 jovyan users 12545 Sep 28 00:54  19th_August_Python_Bascics.ipynb\n",
      "-rw-r--r-- 1 jovyan users 20338 Sep 24 07:24  23_September.ipynb\n",
      "-rw-r--r-- 1 jovyan users 42856 Sep 24 07:27  24September.ipynb\n",
      "-rw-r--r-- 1 jovyan users 30188 Sep 30 05:23  29September.ipynb\n",
      "-rw-r--r-- 1 jovyan users  3067 Sep 28 00:55 'Assignment 1.ipynb'\n",
      "-rw-r--r-- 1 jovyan users 10766 Sep  3 05:47 'Control Statement.ipynb'\n",
      "-rw-r--r-- 1 jovyan users   617 Aug 13 03:44  DAY1.ipynb\n",
      "-rw-r--r-- 1 jovyan users 19448 Sep 28 01:57  For_loop.ipynb\n",
      "-rw-r--r-- 1 jovyan users 65478 Sep 26 13:37  Function.ipynb\n",
      "-rw-r--r-- 1 jovyan users 24681 Sep  3 04:17  Live.ipynb\n",
      "-rw-r--r-- 1 jovyan users  1499 Sep 24 06:22  pw.txt\n",
      "-rw-r--r-- 1 jovyan users   198 Aug 13 03:41  README.md\n",
      "-rw-r--r-- 1 jovyan users    72 Sep 30 03:41  Untitled1.ipynb\n",
      "-rw-r--r-- 1 jovyan users 20204 Sep 10 05:47  Untitled.ipynb\n"
     ]
    }
   ],
   "source": [
    "ls -l"
   ]
  },
  {
   "cell_type": "markdown",
   "id": "c8156aef-7221-42b2-971b-55fa0c90b5ed",
   "metadata": {},
   "source": [
    "# try inside try"
   ]
  },
  {
   "cell_type": "code",
   "execution_count": 80,
   "id": "75ca6b9c-eb84-4536-8e7a-0cad1229ef32",
   "metadata": {},
   "outputs": [
    {
     "name": "stdin",
     "output_type": "stream",
     "text": [
      "enter a number gfd\n"
     ]
    },
    {
     "name": "stdout",
     "output_type": "stream",
     "text": [
      "invalid literal for int() with base 10: 'gfd'\n"
     ]
    }
   ],
   "source": [
    "try:\n",
    "    n=int(input(\"enter a number\"))\n",
    "    div=324/n\n",
    "    print(div)\n",
    "except Exception as e:\n",
    "    print(e)\n"
   ]
  },
  {
   "cell_type": "code",
   "execution_count": 81,
   "id": "e10781c0-c7aa-4172-a1b0-e798dbcd861a",
   "metadata": {},
   "outputs": [
    {
     "name": "stdin",
     "output_type": "stream",
     "text": [
      "enter a number 0\n"
     ]
    },
    {
     "name": "stdout",
     "output_type": "stream",
     "text": [
      "division by zero\n"
     ]
    }
   ],
   "source": [
    "try:\n",
    "    n=int(input(\"enter a number\"))\n",
    "    div=324/n\n",
    "    print(div)\n",
    "except Exception as e:\n",
    "    print(e)\n"
   ]
  },
  {
   "cell_type": "code",
   "execution_count": 83,
   "id": "c19abead-a28c-4568-b2ae-296afff264cf",
   "metadata": {},
   "outputs": [
    {
     "name": "stdin",
     "output_type": "stream",
     "text": [
      "enter a number 0\n"
     ]
    },
    {
     "name": "stdout",
     "output_type": "stream",
     "text": [
      "user has entered zero\n"
     ]
    }
   ],
   "source": [
    "try:\n",
    "    n=int(input(\"enter a number\"))\n",
    "    div=324/n\n",
    "    print(div)\n",
    "except ValueError:\n",
    "    print(\"user has entered invalid input\")\n",
    "except ZeroDivisionError:\n",
    "    print(\"user has entered zero\")"
   ]
  },
  {
   "cell_type": "code",
   "execution_count": 84,
   "id": "af17fdbd-d5d8-4890-b2c2-ac5be10543a7",
   "metadata": {},
   "outputs": [
    {
     "name": "stdin",
     "output_type": "stream",
     "text": [
      "enter a number 0\n"
     ]
    },
    {
     "name": "stdout",
     "output_type": "stream",
     "text": [
      "user has entered invalid input or may be zero\n"
     ]
    }
   ],
   "source": [
    "try:\n",
    "    n=int(input(\"enter a number\"))\n",
    "    div=324/n\n",
    "    print(div)\n",
    "except (ValueError,ZeroDivisionError):\n",
    "    print(\"user has entered invalid input or may be zero\")\n",
    "\n"
   ]
  },
  {
   "cell_type": "code",
   "execution_count": 85,
   "id": "6d1e3491-adfc-49ff-9ad4-39d98b46999d",
   "metadata": {},
   "outputs": [
    {
     "name": "stdin",
     "output_type": "stream",
     "text": [
      "enter a number hjd\n"
     ]
    },
    {
     "name": "stdout",
     "output_type": "stream",
     "text": [
      "user has entered invalid input\n"
     ]
    }
   ],
   "source": [
    "try:\n",
    "    try:\n",
    "        n=int(input(\"enter a number\"))\n",
    "        div=324/n\n",
    "        print(div)\n",
    "    except ValueError:\n",
    "        print(\"user has entered invalid input\")\n",
    "except ZeroDivisionError:\n",
    "    print(\"user has entered zero\")"
   ]
  },
  {
   "cell_type": "code",
   "execution_count": 87,
   "id": "ac8aa960-0cd3-4bbe-be14-03b654434572",
   "metadata": {},
   "outputs": [
    {
     "name": "stdin",
     "output_type": "stream",
     "text": [
      "enter a number 0\n"
     ]
    },
    {
     "name": "stdout",
     "output_type": "stream",
     "text": [
      "user has entered invalid input or may be zero\n"
     ]
    }
   ],
   "source": [
    "try:\n",
    "    n=int(input(\"enter a number\"))\n",
    "    div=324/n\n",
    "    print(div)\n",
    "except (ValueError,ZeroDivisionError):\n",
    "    print(\"user has entered invalid input or may be zero\")\n",
    "else:\n",
    "    print(div)\n"
   ]
  },
  {
   "cell_type": "code",
   "execution_count": 92,
   "id": "0e72c7e0-8af6-4a98-bf7b-42c204d5309a",
   "metadata": {},
   "outputs": [
    {
     "data": {
      "text/plain": [
       "<_io.TextIOWrapper name='pw.txt' mode='r' encoding='UTF-8'>"
      ]
     },
     "execution_count": 92,
     "metadata": {},
     "output_type": "execute_result"
    }
   ],
   "source": [
    "f=open(\"pw.txt\")\n",
    "f"
   ]
  },
  {
   "cell_type": "code",
   "execution_count": 93,
   "id": "b66f1f5d-d5c8-40a2-8e9b-7a036ac7de4e",
   "metadata": {},
   "outputs": [
    {
     "data": {
      "text/plain": [
       "'Explain the concept of recursion in Python. How does it differ from iteration?\\n2. Write a Python program to calculate the factorial of a number using recursion.\\n3. Create a recursive Python function to find the nth Fibonacci number.\\n4. Write a recursive Python function to calculate the sum of all elements in a list.\\n5. How can you prevent a recursive function from running indefinitely, causing a stack overflow\\nerror?\\n6. Create a recursive Python function to find the greatest common divisor (GCD) of two numbers\\nusing the Euclidean algorithm.\\n7. Write a recursive Python function to reverse a string.\\n8. Create a recursive Python function to calculate the power of a number (x^n).\\n9. Write a recursive Python function to find all permutations of a given string.\\n10. Write a recursive Python function to check if a string is a palindrome.\\n11. Create a recursive Python function to generate all possible combinations of a list of elements.\\nBasics of Functions:\\n1. What is a function in Python, and why is it used?\\n2. How do you define a function in Python? Provide an example.\\n3. Explain the difference between a function definition and a function call.\\n4. Write a Python program that defines a function to calculate the sum of two numbers and then\\ncalls the function.\\n5. What is a function signature, and what information does it typically include?\\n6. Create a Python function that takes two arguments and returns their product.\\nFunction Parameters and Arguments:\\n1. Explain'"
      ]
     },
     "execution_count": 93,
     "metadata": {},
     "output_type": "execute_result"
    }
   ],
   "source": [
    "f.read()"
   ]
  },
  {
   "cell_type": "code",
   "execution_count": 94,
   "id": "c12fe93c-ca00-4b4a-8af6-f19e8ea0ffbb",
   "metadata": {},
   "outputs": [],
   "source": [
    "f.close()"
   ]
  },
  {
   "cell_type": "code",
   "execution_count": 95,
   "id": "8014cd6b-7ebf-461f-a2c2-f8f9a982e520",
   "metadata": {},
   "outputs": [
    {
     "data": {
      "text/plain": [
       "<_io.TextIOWrapper name='pw.txt' mode='r' encoding='UTF-8'>"
      ]
     },
     "execution_count": 95,
     "metadata": {},
     "output_type": "execute_result"
    }
   ],
   "source": [
    "f"
   ]
  },
  {
   "cell_type": "code",
   "execution_count": 96,
   "id": "16ab57ac-e4ee-4f86-9f06-fb82fb43115c",
   "metadata": {},
   "outputs": [
    {
     "ename": "ValueError",
     "evalue": "I/O operation on closed file.",
     "output_type": "error",
     "traceback": [
      "\u001b[0;31m---------------------------------------------------------------------------\u001b[0m",
      "\u001b[0;31mValueError\u001b[0m                                Traceback (most recent call last)",
      "Cell \u001b[0;32mIn[96], line 1\u001b[0m\n\u001b[0;32m----> 1\u001b[0m \u001b[43mf\u001b[49m\u001b[38;5;241;43m.\u001b[39;49m\u001b[43mread\u001b[49m\u001b[43m(\u001b[49m\u001b[43m)\u001b[49m\n",
      "\u001b[0;31mValueError\u001b[0m: I/O operation on closed file."
     ]
    }
   ],
   "source": [
    "f.read()"
   ]
  },
  {
   "cell_type": "code",
   "execution_count": 97,
   "id": "4b84dfd8-98b5-4bb4-8e13-f5a28e8e5aaf",
   "metadata": {},
   "outputs": [],
   "source": [
    "f=open(\"pw.txt\")"
   ]
  },
  {
   "cell_type": "code",
   "execution_count": 98,
   "id": "5f306044-b141-49e5-8c84-8269b7417407",
   "metadata": {},
   "outputs": [
    {
     "data": {
      "text/plain": [
       "<_io.TextIOWrapper name='pw.txt' mode='r' encoding='UTF-8'>"
      ]
     },
     "execution_count": 98,
     "metadata": {},
     "output_type": "execute_result"
    }
   ],
   "source": [
    "f"
   ]
  },
  {
   "cell_type": "code",
   "execution_count": 99,
   "id": "a2043df6-4651-46af-a9c8-fc62ca740ddb",
   "metadata": {},
   "outputs": [
    {
     "data": {
      "text/plain": [
       "'Explain the concept of recursion in Python. How does it differ from iteration?\\n2. Write a Python program to calculate the factorial of a number using recursion.\\n3. Create a recursive Python function to find the nth Fibonacci number.\\n4. Write a recursive Python function to calculate the sum of all elements in a list.\\n5. How can you prevent a recursive function from running indefinitely, causing a stack overflow\\nerror?\\n6. Create a recursive Python function to find the greatest common divisor (GCD) of two numbers\\nusing the Euclidean algorithm.\\n7. Write a recursive Python function to reverse a string.\\n8. Create a recursive Python function to calculate the power of a number (x^n).\\n9. Write a recursive Python function to find all permutations of a given string.\\n10. Write a recursive Python function to check if a string is a palindrome.\\n11. Create a recursive Python function to generate all possible combinations of a list of elements.\\nBasics of Functions:\\n1. What is a function in Python, and why is it used?\\n2. How do you define a function in Python? Provide an example.\\n3. Explain the difference between a function definition and a function call.\\n4. Write a Python program that defines a function to calculate the sum of two numbers and then\\ncalls the function.\\n5. What is a function signature, and what information does it typically include?\\n6. Create a Python function that takes two arguments and returns their product.\\nFunction Parameters and Arguments:\\n1. Explain'"
      ]
     },
     "execution_count": 99,
     "metadata": {},
     "output_type": "execute_result"
    }
   ],
   "source": [
    "f.read()"
   ]
  },
  {
   "cell_type": "code",
   "execution_count": 104,
   "id": "6f45d620-86c7-43cd-b7fc-82bff89fd627",
   "metadata": {},
   "outputs": [
    {
     "name": "stdout",
     "output_type": "stream",
     "text": [
      "Explain the concept of recursion in Python. How does it differ from iteration?\n",
      "2. Write a Python program to calculate the factorial of a number using recursion.\n",
      "3. Create a recursive Python function to find the nth Fibonacci number.\n",
      "4. Write a recursive Python function to calculate the sum of all elements in a list.\n",
      "5. How can you prevent a recursive function from running indefinitely, causing a stack overflow\n",
      "error?\n",
      "6. Create a recursive Python function to find the greatest common divisor (GCD) of two numbers\n",
      "using the Euclidean algorithm.\n",
      "7. Write a recursive Python function to reverse a string.\n",
      "8. Create a recursive Python function to calculate the power of a number (x^n).\n",
      "9. Write a recursive Python function to find all permutations of a given string.\n",
      "10. Write a recursive Python function to check if a string is a palindrome.\n",
      "11. Create a recursive Python function to generate all possible combinations of a list of elements.\n",
      "Basics of Functions:\n",
      "1. What is a function in Python, and why is it used?\n",
      "2. How do you define a function in Python? Provide an example.\n",
      "3. Explain the difference between a function definition and a function call.\n",
      "4. Write a Python program that defines a function to calculate the sum of two numbers and then\n",
      "calls the function.\n",
      "5. What is a function signature, and what information does it typically include?\n",
      "6. Create a Python function that takes two arguments and returns their product.\n",
      "Function Parameters and Arguments:\n",
      "1. Explain\n",
      "file closed\n"
     ]
    }
   ],
   "source": [
    "try:\n",
    "    f=open(\"pw.txt\")\n",
    "    data=f.read()\n",
    "except Exception:\n",
    "    print(\"there is some issue\")\n",
    "else:\n",
    "    print(data)\n",
    "finally:\n",
    "    f.close()\n",
    "    print(\"file closed\")"
   ]
  },
  {
   "cell_type": "code",
   "execution_count": 107,
   "id": "1a03af22-663e-42de-943e-8e00da94170c",
   "metadata": {},
   "outputs": [
    {
     "name": "stdin",
     "output_type": "stream",
     "text": [
      "enter height of the wall -36\n"
     ]
    },
    {
     "name": "stdout",
     "output_type": "stream",
     "text": [
      "enter heighti is negative\n"
     ]
    }
   ],
   "source": [
    "try:\n",
    "    a=int(input(\"enter height of the wall\")) # negative height is not possible4\n",
    "    if a<0:\n",
    "        raise ValueError(\"enter heighti is negative\")\n",
    "except ValueError as v:\n",
    "    print(v)"
   ]
  },
  {
   "cell_type": "code",
   "execution_count": 111,
   "id": "833cebfa-4f30-4871-b47a-3b81b77523ac",
   "metadata": {},
   "outputs": [
    {
     "name": "stdin",
     "output_type": "stream",
     "text": [
      "enter your age -36\n"
     ]
    },
    {
     "name": "stdout",
     "output_type": "stream",
     "text": [
      "user entered age is negative which is not valid\n"
     ]
    }
   ],
   "source": [
    "try:\n",
    "    age=int(input(\"enter your age\"))\n",
    "    if age<0:\n",
    "        raise ValueError(\"user entered age is negative which is not valid\")\n",
    "    elif age<18:\n",
    "        raise ValueError(\"user is under age\")\n",
    "    else:\n",
    "        print(\"valid user\")\n",
    "except ValueError as v:\n",
    "    print(v)"
   ]
  },
  {
   "cell_type": "markdown",
   "id": "ca9506e0-a252-44a5-a1ee-3d4f9090f1c6",
   "metadata": {},
   "source": [
    "# logging"
   ]
  },
  {
   "cell_type": "markdown",
   "id": "c593b0b1-1f78-45ac-96c6-b6ca2dc7b4a3",
   "metadata": {},
   "source": [
    "# we are trying to store messages in a file is logging "
   ]
  },
  {
   "cell_type": "code",
   "execution_count": 1,
   "id": "78a370e2-f275-4919-8705-8269cd431f55",
   "metadata": {},
   "outputs": [],
   "source": [
    "import logging as log"
   ]
  },
  {
   "cell_type": "code",
   "execution_count": 2,
   "id": "4116a14b-ba90-4786-90fc-f5977b265b83",
   "metadata": {},
   "outputs": [],
   "source": [
    "log.basicConfig(filename=\"test.log\",level=log.INFO)"
   ]
  },
  {
   "cell_type": "code",
   "execution_count": 3,
   "id": "112592f4-4d87-4b89-95c2-94a287c4beda",
   "metadata": {},
   "outputs": [],
   "source": [
    "log.info(\"store a msg\")"
   ]
  },
  {
   "cell_type": "code",
   "execution_count": 4,
   "id": "ccc5b142-53cd-4425-a28f-c2573ce5e1c3",
   "metadata": {},
   "outputs": [],
   "source": [
    "log.debug(\"this is debug msg\")"
   ]
  },
  {
   "cell_type": "code",
   "execution_count": 5,
   "id": "f667b995-fdb7-4251-8315-719fc14bb914",
   "metadata": {},
   "outputs": [],
   "source": [
    "log.warning(\"this is my warning\")"
   ]
  },
  {
   "cell_type": "code",
   "execution_count": 6,
   "id": "8b95eebd-846e-4ffd-a2cb-292caf725bd3",
   "metadata": {},
   "outputs": [],
   "source": [
    "log.error(\"this is error msg\")"
   ]
  },
  {
   "cell_type": "code",
   "execution_count": 7,
   "id": "f5e2ca98-7dbe-4d2a-8f72-173f2f955e35",
   "metadata": {},
   "outputs": [],
   "source": [
    "log.critical(\"this is critical\")"
   ]
  },
  {
   "cell_type": "code",
   "execution_count": null,
   "id": "75f22293-aec5-46c1-acb7-61453249f821",
   "metadata": {},
   "outputs": [],
   "source": []
  },
  {
   "cell_type": "code",
   "execution_count": 1,
   "id": "7f166a28-c4a3-4ecc-873d-398ab3af4ecf",
   "metadata": {},
   "outputs": [
    {
     "name": "stdin",
     "output_type": "stream",
     "text": [
      "enter your age -35\n"
     ]
    }
   ],
   "source": [
    "import logging\n",
    "logging.basicConfig(filename='trytest.log',level=logging.INFO)\n",
    "try:\n",
    "    logging.info(\"this is a start of my prog\")\n",
    "    logging.info(\"asking user to enter age\")\n",
    "    age=int(input(\"enter your age\"))\n",
    "    logging.info(\"user has entered the age\")\n",
    "    if age<0:\n",
    "        logging.info(\"i am checking negative age\")\n",
    "        raise ValueError(\"user entered age is negative which is not valid\")\n",
    "    elif age<18:\n",
    "        logging.info(\"I am trying to check underage condition\")\n",
    "        raise ValueError(\"user is under age\")\n",
    "    else:\n",
    "        logging.info(\"valid age\")\n",
    "        print(\"valid user\")\n",
    "except ValueError as v:\n",
    "    logging.error(v)"
   ]
  },
  {
   "cell_type": "code",
   "execution_count": 4,
   "id": "baf2f00a-0054-4c9e-a804-df1c0b10a6c7",
   "metadata": {},
   "outputs": [
    {
     "name": "stdin",
     "output_type": "stream",
     "text": [
      "enter your age 25\n"
     ]
    },
    {
     "name": "stdout",
     "output_type": "stream",
     "text": [
      "valid user\n"
     ]
    }
   ],
   "source": [
    "import logging\n",
    "logging.basicConfig(filename='trytest.log',level=logging.DEBUG,format='%(asctime)s- %(message)s')\n",
    "try:\n",
    "    logging.info(\"this is a start of my prog\")\n",
    "    logging.info(\"asking user to enter age\")\n",
    "    age=int(input(\"enter your age\"))\n",
    "    logging.info(\"user has entered the age\")\n",
    "    if age<0:\n",
    "        logging.info(\"i am checking negative age\")\n",
    "        raise ValueError(\"user entered age is negative which is not valid\")\n",
    "    elif age<18:\n",
    "        logging.info(\"I am trying to check underage condition\")\n",
    "        raise ValueError(\"user is under age\")\n",
    "    else:\n",
    "        logging.info(\"valid age\")\n",
    "        print(\"valid user\")\n",
    "except ValueError as v:\n",
    "    logging.error(v)"
   ]
  },
  {
   "cell_type": "code",
   "execution_count": 7,
   "id": "8c3e473a-142b-49c4-a63f-a4ed7d42af54",
   "metadata": {},
   "outputs": [
    {
     "name": "stderr",
     "output_type": "stream",
     "text": [
      "--- Logging error ---\n",
      "Traceback (most recent call last):\n",
      "  File \"/opt/conda/lib/python3.10/logging/__init__.py\", line 440, in format\n",
      "    return self._format(record)\n",
      "  File \"/opt/conda/lib/python3.10/logging/__init__.py\", line 436, in _format\n",
      "    return self._fmt % values\n",
      "KeyError: 'level'\n",
      "\n",
      "During handling of the above exception, another exception occurred:\n",
      "\n",
      "Traceback (most recent call last):\n",
      "  File \"/opt/conda/lib/python3.10/logging/__init__.py\", line 1100, in emit\n",
      "    msg = self.format(record)\n",
      "  File \"/opt/conda/lib/python3.10/logging/__init__.py\", line 943, in format\n",
      "    return fmt.format(record)\n",
      "  File \"/opt/conda/lib/python3.10/logging/__init__.py\", line 681, in format\n",
      "    s = self.formatMessage(record)\n",
      "  File \"/opt/conda/lib/python3.10/logging/__init__.py\", line 650, in formatMessage\n",
      "    return self._style.format(record)\n",
      "  File \"/opt/conda/lib/python3.10/logging/__init__.py\", line 442, in format\n",
      "    raise ValueError('Formatting field not found in record: %s' % e)\n",
      "ValueError: Formatting field not found in record: 'level'\n",
      "Call stack:\n",
      "  File \"/opt/conda/lib/python3.10/runpy.py\", line 196, in _run_module_as_main\n",
      "    return _run_code(code, main_globals, None,\n",
      "  File \"/opt/conda/lib/python3.10/runpy.py\", line 86, in _run_code\n",
      "    exec(code, run_globals)\n",
      "  File \"/opt/conda/lib/python3.10/site-packages/ipykernel_launcher.py\", line 17, in <module>\n",
      "    app.launch_new_instance()\n",
      "  File \"/opt/conda/lib/python3.10/site-packages/traitlets/config/application.py\", line 992, in launch_instance\n",
      "    app.start()\n",
      "  File \"/opt/conda/lib/python3.10/site-packages/ipykernel/kernelapp.py\", line 711, in start\n",
      "    self.io_loop.start()\n",
      "  File \"/opt/conda/lib/python3.10/site-packages/tornado/platform/asyncio.py\", line 199, in start\n",
      "    self.asyncio_loop.run_forever()\n",
      "  File \"/opt/conda/lib/python3.10/asyncio/base_events.py\", line 603, in run_forever\n",
      "    self._run_once()\n",
      "  File \"/opt/conda/lib/python3.10/asyncio/base_events.py\", line 1899, in _run_once\n",
      "    handle._run()\n",
      "  File \"/opt/conda/lib/python3.10/asyncio/events.py\", line 80, in _run\n",
      "    self._context.run(self._callback, *self._args)\n",
      "  File \"/opt/conda/lib/python3.10/site-packages/ipykernel/kernelbase.py\", line 510, in dispatch_queue\n",
      "    await self.process_one()\n",
      "  File \"/opt/conda/lib/python3.10/site-packages/ipykernel/kernelbase.py\", line 499, in process_one\n",
      "    await dispatch(*args)\n",
      "  File \"/opt/conda/lib/python3.10/site-packages/ipykernel/kernelbase.py\", line 406, in dispatch_shell\n",
      "    await result\n",
      "  File \"/opt/conda/lib/python3.10/site-packages/ipykernel/kernelbase.py\", line 729, in execute_request\n",
      "    reply_content = await reply_content\n",
      "  File \"/opt/conda/lib/python3.10/site-packages/ipykernel/ipkernel.py\", line 411, in do_execute\n",
      "    res = shell.run_cell(\n",
      "  File \"/opt/conda/lib/python3.10/site-packages/ipykernel/zmqshell.py\", line 531, in run_cell\n",
      "    return super().run_cell(*args, **kwargs)\n",
      "  File \"/opt/conda/lib/python3.10/site-packages/IPython/core/interactiveshell.py\", line 2940, in run_cell\n",
      "    result = self._run_cell(\n",
      "  File \"/opt/conda/lib/python3.10/site-packages/IPython/core/interactiveshell.py\", line 2995, in _run_cell\n",
      "    return runner(coro)\n",
      "  File \"/opt/conda/lib/python3.10/site-packages/IPython/core/async_helpers.py\", line 129, in _pseudo_sync_runner\n",
      "    coro.send(None)\n",
      "  File \"/opt/conda/lib/python3.10/site-packages/IPython/core/interactiveshell.py\", line 3194, in run_cell_async\n",
      "    has_raised = await self.run_ast_nodes(code_ast.body, cell_name,\n",
      "  File \"/opt/conda/lib/python3.10/site-packages/IPython/core/interactiveshell.py\", line 3373, in run_ast_nodes\n",
      "    if await self.run_code(code, result, async_=asy):\n",
      "  File \"/opt/conda/lib/python3.10/site-packages/IPython/core/interactiveshell.py\", line 3433, in run_code\n",
      "    exec(code_obj, self.user_global_ns, self.user_ns)\n",
      "  File \"/tmp/ipykernel_6777/2612437141.py\", line 4, in <module>\n",
      "    logging.info(l)\n",
      "Message: [4, 5, 6, 7, 8, 9, 0]\n",
      "Arguments: ()\n"
     ]
    }
   ],
   "source": [
    "import logging\n",
    "logging.basicConfig(filename='even_parser.log',level=logging.DEBUG,format='%(asctime)s - %(levelname)s - %(message)s')\n",
    "l=[4,5,6,7,8,9,0]\n",
    "logging.info(l)\n",
    "\n",
    "l1=[]\n",
    "def even_parser(l):\n",
    "    try:\n",
    "        \n",
    "        logging.info(\"Inside try block\")\n",
    "        for i in l:\n",
    "            logging.info(\"inside for loop i= %d\",i)\n",
    "            if i%2==0:\n",
    "                logging.info(\"checking the value of i\")\n",
    "                l1.append(i)\n",
    "                logging.info(\"appending the value of i= %d\",i)\n",
    "        return l1   \n",
    "    except Exception as e:\n",
    "        logging.error(e)\n",
    "    "
   ]
  },
  {
   "cell_type": "code",
   "execution_count": null,
   "id": "1e98c084-2101-4707-9343-069202ee9880",
   "metadata": {},
   "outputs": [],
   "source": []
  },
  {
   "cell_type": "code",
   "execution_count": null,
   "id": "0c242cc0-4180-4137-8558-c5669e72c0cc",
   "metadata": {},
   "outputs": [],
   "source": []
  },
  {
   "cell_type": "code",
   "execution_count": null,
   "id": "fc8aade2-778e-4e4b-bc88-0ccadd61d23f",
   "metadata": {},
   "outputs": [],
   "source": []
  }
 ],
 "metadata": {
  "kernelspec": {
   "display_name": "Python 3 (ipykernel)",
   "language": "python",
   "name": "python3"
  },
  "language_info": {
   "codemirror_mode": {
    "name": "ipython",
    "version": 3
   },
   "file_extension": ".py",
   "mimetype": "text/x-python",
   "name": "python",
   "nbconvert_exporter": "python",
   "pygments_lexer": "ipython3",
   "version": "3.10.8"
  }
 },
 "nbformat": 4,
 "nbformat_minor": 5
}
